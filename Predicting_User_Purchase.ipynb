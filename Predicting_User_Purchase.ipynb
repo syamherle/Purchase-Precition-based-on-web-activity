{
 "cells": [
  {
   "cell_type": "markdown",
   "metadata": {},
   "source": [
    "# Predicting users who will make purchase based on web activites\n",
    "\n",
    "We have web activities of user with timestamp of the activity and as well as the user id's. We will explore the data and try to find features which are helpful in deciding weather the user will purchase or not.\n",
    "\n",
    "We will import all the required libraires and train a classifier and get prediction results."
   ]
  },
  {
   "cell_type": "code",
   "execution_count": 607,
   "metadata": {
    "collapsed": true
   },
   "outputs": [],
   "source": [
    "import sys\n",
    "# !{sys.executable} -m pip install seaborn\n",
    "import pandas as pd\n",
    "import numpy as np\n",
    "\n",
    "import os \n",
    "import pandas as pd\n",
    "import numpy as np\n",
    "import seaborn as sns\n",
    "from sklearn.preprocessing import StandardScaler\n",
    "from sklearn.decomposition import TruncatedSVD\n",
    "from scipy.sparse import csr_matrix\n",
    "import matplotlib.pyplot as plt\n",
    "%matplotlib inline\n",
    "from sklearn.manifold import TSNE"
   ]
  },
  {
   "cell_type": "markdown",
   "metadata": {},
   "source": [
    "### Works on the data\n",
    "\n",
    " + We will load the data,rename the column and transform the date column to datetype.\n",
    " + We will group the data using unique value (user_id) and we will one-hot encode the activity by taking sum. For this    we will use pd.get_dummies function.\n",
    " + Next step we will split the data to training and testing, and use them to train and evaluate models.\n",
    " + We have split the data like train -> 70% and test -> 30%. We have not used the shuffle, which we can use it later in model evaluation.\n",
    " + We will remove the user_id value. Make purchase values as 0/1 binary (0 => No purchase, 1 => purchase).\n",
    " \n",
    " "
   ]
  },
  {
   "cell_type": "code",
   "execution_count": 608,
   "metadata": {
    "collapsed": true
   },
   "outputs": [],
   "source": [
    "train_test = pd.read_csv('training.tsv',sep='\\t',header=None)"
   ]
  },
  {
   "cell_type": "code",
   "execution_count": 609,
   "metadata": {
    "collapsed": true
   },
   "outputs": [],
   "source": [
    "\n",
    "train_test = train_test.rename(index=str, columns={0: \"user_id\", 1: \"date\",2:\"activity\"})\n",
    "train_test['date'] = pd.to_datetime(pd.Series(train_test['date']), format=\"%Y/%m/%d\")\n"
   ]
  },
  {
   "cell_type": "code",
   "execution_count": 610,
   "metadata": {
    "collapsed": true
   },
   "outputs": [],
   "source": [
    "train_test = pd.get_dummies(train_test, columns=['activity']).groupby(['user_id'], as_index=False).sum()"
   ]
  },
  {
   "cell_type": "code",
   "execution_count": 611,
   "metadata": {
    "collapsed": true
   },
   "outputs": [],
   "source": [
    "#First we will split training and testing data 70%/30%\n",
    "train_df = train_test[:240000]\n",
    "test_df = train_test[240000:]"
   ]
  },
  {
   "cell_type": "code",
   "execution_count": 612,
   "metadata": {
    "collapsed": true
   },
   "outputs": [],
   "source": [
    "#Save the user_id and target vale\n",
    "train_df_user = train_df['user_id'].values\n",
    "test_df_user = test_df['user_id'].values\n"
   ]
  },
  {
   "cell_type": "code",
   "execution_count": 613,
   "metadata": {
    "collapsed": true
   },
   "outputs": [],
   "source": [
    "#Rename activity_Purchase to purchase\n",
    "train_df = train_df.rename(index=str, columns={\"activity_Purchase\": \"purchase\"})\n",
    "test_df = test_df.rename(index=str, columns={\"activity_Purchase\": \"purchase\"})"
   ]
  },
  {
   "cell_type": "code",
   "execution_count": 614,
   "metadata": {
    "collapsed": true
   },
   "outputs": [],
   "source": [
    "#Changing the purchase value to 0/1\n",
    "\n",
    "train_df['purchase'] = np.where(train_df.purchase > 0, 1, train_df.purchase)\n",
    "test_df['purchase'] = np.where(test_df.purchase > 0, 1, test_df.purchase)"
   ]
  },
  {
   "cell_type": "code",
   "execution_count": 615,
   "metadata": {
    "collapsed": true
   },
   "outputs": [],
   "source": [
    "# Let us remove user_id from the training set\n",
    "train_x = train_df.loc[:, 'activity_CustomerSupport':'activity_WebVisit']\n",
    "test_x = test_df.loc[:, 'activity_CustomerSupport':'activity_WebVisit']"
   ]
  },
  {
   "cell_type": "markdown",
   "metadata": {},
   "source": [
    "### Once the feature construcrtion is done, we will try to find the correlated features with the target variable. And we will remove highly correlated feature with the target variable."
   ]
  },
  {
   "cell_type": "code",
   "execution_count": 616,
   "metadata": {},
   "outputs": [
    {
     "name": "stdout",
     "output_type": "stream",
     "text": [
      "Most Positive Correlations:\n",
      " activity_FormSubmit           0.062466\n",
      "activity_EmailClickthrough    0.074485\n",
      "activity_EmailOpen            0.080390\n",
      "activity_WebVisit             0.092075\n",
      "activity_PageView             0.092240\n",
      "activity_CustomerSupport      1.000000\n",
      "purchase                      1.000000\n",
      "Name: purchase, dtype: float64\n"
     ]
    }
   ],
   "source": [
    "#Checking correlation of the generated features of the data with the target variable.\n",
    "correlations = train_x.corr()['purchase'].sort_values()\n",
    "\n",
    "print('Most Positive Correlations:\\n', correlations)\n"
   ]
  },
  {
   "cell_type": "markdown",
   "metadata": {},
   "source": [
    "## Based on the above results, it seems CustomerSupport is having value of 1.0, so we will remove that as having it will make the model to not perform well."
   ]
  },
  {
   "cell_type": "code",
   "execution_count": 617,
   "metadata": {
    "collapsed": true
   },
   "outputs": [],
   "source": [
    "#The feature activity_CustomerSupport is highly correlated, keeping it in the data will make the model not to work well.\n",
    "\n",
    "train_x = train_x.drop(['activity_CustomerSupport'],axis=1)\n",
    "test_x = test_x.drop(['activity_CustomerSupport'],axis=1)"
   ]
  },
  {
   "cell_type": "code",
   "execution_count": 618,
   "metadata": {},
   "outputs": [
    {
     "name": "stdout",
     "output_type": "stream",
     "text": [
      "Most Positive Correlations:\n",
      " activity_FormSubmit           0.062466\n",
      "activity_EmailClickthrough    0.074485\n",
      "activity_EmailOpen            0.080390\n",
      "activity_WebVisit             0.092075\n",
      "activity_PageView             0.092240\n",
      "purchase                      1.000000\n",
      "Name: purchase, dtype: float64\n"
     ]
    }
   ],
   "source": [
    "correlations = train_x.corr()['purchase'].sort_values()\n",
    "\n",
    "print('Most Positive Correlations:\\n', correlations)\n"
   ]
  },
  {
   "cell_type": "code",
   "execution_count": 619,
   "metadata": {
    "collapsed": true
   },
   "outputs": [],
   "source": [
    "training_data_features = list(train_x.columns)"
   ]
  },
  {
   "cell_type": "code",
   "execution_count": 621,
   "metadata": {
    "collapsed": true
   },
   "outputs": [],
   "source": [
    "training_data_features.remove('purchase')"
   ]
  },
  {
   "cell_type": "markdown",
   "metadata": {},
   "source": [
    "#### From above correlation plot we can see that following features are positively correlated with the target variable, \n",
    " + EmailOpen\n",
    " + WebVisit\n",
    " + PageView\n",
    " \n",
    "#### But we can make any true assumption of the data based on this information alone, we wil find the important features later in this notebook.\n",
    "\n",
    "# EDA\n",
    "\n",
    "### We will try to do following exploratry data analysis on the training data of whole data ,\n",
    "\n",
    " + Class distribution of the data\n",
    " + Features distribution with respect to target variable.\n"
   ]
  },
  {
   "cell_type": "code",
   "execution_count": 557,
   "metadata": {},
   "outputs": [
    {
     "name": "stdout",
     "output_type": "stream",
     "text": [
      "The purchase class in train data is 73267\n",
      "The non-purchase class in train data is 166733\n"
     ]
    },
    {
     "data": {
      "image/png": "[encoded data removed]",
      "text/plain": [
       "<Figure size 432x288 with 1 Axes>"
      ]
     },
     "metadata": {},
     "output_type": "display_data"
    }
   ],
   "source": [
    "ax = sns.countplot(x='purchase', data=train_x)\n",
    "print('The purchase class in train data is {}'.format(len(train_x[train_x['purchase']==1])))\n",
    "print('The non-purchase class in train data is {}'.format(len(train_x[train_x['purchase']==0])))"
   ]
  },
  {
   "cell_type": "markdown",
   "metadata": {},
   "source": [
    "#### We can observe that there is class imbalance problem, for class imbalance problem we have to use the following evaluation metrics instead of Accuracy alone.\n",
    "\n",
    " + Precision\n",
    " + Recall\n",
    " + F1-Score\n",
    " + ROC and AUC \n",
    " + Confuision Matrix"
   ]
  },
  {
   "cell_type": "markdown",
   "metadata": {},
   "source": [
    "# Feature distribution wrt target (purchase)"
   ]
  },
  {
   "cell_type": "code",
   "execution_count": 558,
   "metadata": {},
   "outputs": [
    {
     "data": {
      "image/png": "[encoded data removed]",
      "text/plain": [
       "<Figure size 864x1440 with 5 Axes>"
      ]
     },
     "metadata": {},
     "output_type": "display_data"
    }
   ],
   "source": [
    "plt.figure(figsize = (12, 20))\n",
    "# iterate through the new features\n",
    "for i, feature in enumerate(['activity_EmailClickthrough', 'activity_EmailOpen', 'activity_FormSubmit', 'activity_PageView','activity_WebVisit']):\n",
    "    \n",
    "    # create a new subplot for each source\n",
    "    plt.subplot(5, 1, i + 1)\n",
    "    # plot repaid loans\n",
    "    sns.kdeplot(train_x.loc[train_x['purchase'] == 0, feature], label = 'purchase == 0')\n",
    "    # plot loans that were not repaid\n",
    "    sns.kdeplot(train_x.loc[train_x['purchase'] == 1, feature], label = 'purchase == 1')\n",
    "    \n",
    "    # Label the plots\n",
    "    plt.title('Distribution of %s by Target Value' % feature)\n",
    "    plt.xlabel('%s' % feature); plt.ylabel('Density');\n",
    "    \n",
    "plt.tight_layout(h_pad = 2.5)"
   ]
  },
  {
   "cell_type": "markdown",
   "metadata": {},
   "source": [
    "### From above plots we can see that there is huge skewness in the data. We will try to explore on the features using whiskers plot to see the outlier and skewness."
   ]
  },
  {
   "cell_type": "markdown",
   "metadata": {},
   "source": [
    "## Whisker-box plot\n"
   ]
  },
  {
   "cell_type": "code",
   "execution_count": 664,
   "metadata": {},
   "outputs": [
    {
     "data": {
      "image/png": "[encoded data removed]",
      "text/plain": [
       "<Figure size 720x360 with 1 Axes>"
      ]
     },
     "metadata": {},
     "output_type": "display_data"
    }
   ],
   "source": [
    "boxplot = train_x.boxplot(column=['activity_EmailClickthrough', 'activity_EmailOpen', 'activity_FormSubmit', 'activity_PageView','activity_WebVisit'],figsize= (10,5))"
   ]
  },
  {
   "cell_type": "markdown",
   "metadata": {},
   "source": [
    "### From the above plot we can see that all the features are extremly skeewed and rightly-skewed. this is due to the data is not scaled properly, we will try to solve this problem later before fitting the model on data"
   ]
  },
  {
   "cell_type": "code",
   "execution_count": 559,
   "metadata": {
    "collapsed": true
   },
   "outputs": [],
   "source": [
    "#Before that we will remove the target from training data\n",
    "train_y = train_x['purchase']\n",
    "test_y = test_x['purchase']\n",
    "\n",
    "train_x = train_x.drop(['purchase'],axis=1)\n",
    "test_x = test_x.drop(['purchase'],axis=1)"
   ]
  },
  {
   "cell_type": "code",
   "execution_count": 598,
   "metadata": {
    "collapsed": true
   },
   "outputs": [],
   "source": [
    "#Normalize the dataset for skewness\n",
    "\n",
    "from sklearn.preprocessing import MinMaxScaler\n",
    "train = train_x\n",
    "test = test_x\n",
    "\n",
    "scaler = MinMaxScaler(feature_range = (0, 1))\n",
    "scaler.fit(train)\n",
    "train_x_scaled = scaler.transform(train)\n",
    "test_x_scaled = scaler.transform(test)"
   ]
  },
  {
   "cell_type": "markdown",
   "metadata": {},
   "source": [
    "## Baseline Model - Logistic Regression (L2 - Regularized)"
   ]
  },
  {
   "cell_type": "code",
   "execution_count": 561,
   "metadata": {},
   "outputs": [
    {
     "name": "stdout",
     "output_type": "stream",
     "text": [
      "\n",
      "The probability values of the test data of training\n",
      "[0.49988451 0.50007915 0.50057092 ... 0.49986723 0.50004841 0.4999101 ]\n",
      "Accuracy of logistic regression classifier on test set: 0.60\n"
     ]
    }
   ],
   "source": [
    "#We will fit a logistic Regression model and test it on test data\n",
    "\n",
    "from sklearn.linear_model import LogisticRegression\n",
    "\n",
    "\n",
    "\n",
    "logisticRegr = LogisticRegression(C=0.0001,penalty='l2',class_weight='balanced')\n",
    "\n",
    "\n",
    "logisticRegr.fit(train_x_scaled, train_y)\n",
    "\n",
    "predictions_lr = logisticRegr.predict(test_x_scaled)\n",
    "\n",
    "print()\n",
    "print(\"The probability values of the test data of training\")\n",
    "print(logisticRegr.predict_proba(test_x_scaled)[:,1])\n",
    "\n",
    "score_lr = logisticRegr.score(test_x_scaled, test_y)\n",
    "print('Accuracy of logistic regression classifier on test set: {:.2f}'.format(score_lr))\n",
    "\n"
   ]
  },
  {
   "cell_type": "code",
   "execution_count": 562,
   "metadata": {},
   "outputs": [
    {
     "name": "stdout",
     "output_type": "stream",
     "text": [
      "[[55382 15462]\n",
      " [24916  5808]]\n"
     ]
    }
   ],
   "source": [
    "#We will get the confusion matrix\n",
    "\n",
    "import matplotlib.pyplot as plt\n",
    "from sklearn import metrics\n",
    "cm = metrics.confusion_matrix(test_y, predictions_lr)\n",
    "print(cm)"
   ]
  },
  {
   "cell_type": "code",
   "execution_count": 563,
   "metadata": {},
   "outputs": [
    {
     "name": "stdout",
     "output_type": "stream",
     "text": [
      "             precision    recall  f1-score   support\n",
      "\n",
      "        0.0       0.69      0.78      0.73     70844\n",
      "        1.0       0.27      0.19      0.22     30724\n",
      "\n",
      "avg / total       0.56      0.60      0.58    101568\n",
      "\n"
     ]
    }
   ],
   "source": [
    "from sklearn.metrics import classification_report\n",
    "print(classification_report(test_y, predictions_lr))"
   ]
  },
  {
   "cell_type": "code",
   "execution_count": 564,
   "metadata": {},
   "outputs": [
    {
     "name": "stdout",
     "output_type": "stream",
     "text": [
      "10-fold cross validation average F-1 Score is: 0.586\n"
     ]
    }
   ],
   "source": [
    "# we will do the cross validation and compute the mean F1_weighted score\n",
    "\n",
    "from sklearn import model_selection\n",
    "from sklearn.model_selection import cross_val_score\n",
    "kfold = model_selection.KFold(n_splits=10, random_state=7)\n",
    "modelCV = LogisticRegression()\n",
    "scoring = 'f1_weighted'\n",
    "results = model_selection.cross_val_score(modelCV, train_x_scaled, train_y, cv=kfold, scoring=scoring)\n",
    "print(\"10-fold cross validation average F-1 Score is: %.3f\" % (results.mean()))\n"
   ]
  },
  {
   "cell_type": "markdown",
   "metadata": {},
   "source": [
    "## Baseline Results\n",
    "\n",
    "We used L2-Regularized logistic regression model with regularization parameter of 0.0001. We accheived an accuracy of 60%. But since we have class imbalance problem we have F1 as well as ROC (Later). The F1-Score is 0.58, which seems to be descent. So we have baseline F1 as 0.58"
   ]
  },
  {
   "cell_type": "markdown",
   "metadata": {},
   "source": [
    "## Improved model - RandomForest"
   ]
  },
  {
   "cell_type": "markdown",
   "metadata": {},
   "source": [
    "#### First we will try to fit a base randomForest model, once it is done we will try to fine tune the parameter of model"
   ]
  },
  {
   "cell_type": "code",
   "execution_count": 566,
   "metadata": {
    "collapsed": true
   },
   "outputs": [],
   "source": [
    "from sklearn.ensemble import RandomForestClassifier\n",
    "\n",
    "# Make the random forest classifier\n",
    "base_random_forest = RandomForestClassifier(random_state = 42)"
   ]
  },
  {
   "cell_type": "code",
   "execution_count": 567,
   "metadata": {
    "collapsed": true
   },
   "outputs": [],
   "source": [
    "\n",
    "base_random_forest.fit(train_x_scaled, train_y)\n",
    "\n",
    "# Make predictions on the test data\n",
    "predictions = base_random_forest.predict_proba(test_x_scaled)[:, 1]"
   ]
  },
  {
   "cell_type": "code",
   "execution_count": 666,
   "metadata": {},
   "outputs": [
    {
     "name": "stdout",
     "output_type": "stream",
     "text": [
      "Accuracy of baseline model 0.8969065059861374.\n"
     ]
    }
   ],
   "source": [
    "score = base_random_forest.score(test_x_scaled, test_y)\n",
    "print(\"Accuracy of baseline model {}.\".format(score))"
   ]
  },
  {
   "cell_type": "code",
   "execution_count": 669,
   "metadata": {},
   "outputs": [
    {
     "name": "stdout",
     "output_type": "stream",
     "text": [
      "[[68893  1951]\n",
      " [ 8516 22208]]\n"
     ]
    }
   ],
   "source": [
    "\n",
    "prediction_label_base_rf = [1 if i>=0.5 else 0 for i in predictions]\n",
    "import matplotlib.pyplot as plt\n",
    "from sklearn import metrics\n",
    "cm = metrics.confusion_matrix(test_y, prediction_label_base_rf)\n",
    "print(cm)"
   ]
  },
  {
   "cell_type": "code",
   "execution_count": 572,
   "metadata": {},
   "outputs": [
    {
     "name": "stdout",
     "output_type": "stream",
     "text": [
      "             precision    recall  f1-score   support\n",
      "\n",
      "        0.0       0.89      0.97      0.93     70844\n",
      "        1.0       0.92      0.72      0.81     30724\n",
      "\n",
      "avg / total       0.90      0.90      0.89    101568\n",
      "\n"
     ]
    }
   ],
   "source": [
    "\n",
    "print(classification_report(test_y, prediction_label_base_rf))\n"
   ]
  },
  {
   "cell_type": "markdown",
   "metadata": {},
   "source": [
    "## Base RandomForest Results\n",
    "\n",
    " + We have used basic randomforest classifier to classify the data. \n",
    " + We achieved a good F1-Score of 0.89 and accuracy as 89% (which we wont consider). \n",
    " + The model gives a good precion and recall than baseline logistic regression. \n",
    " + From the confusion matrix we can see tha, true prediction of purchased class by the classifier is increased\n",
    " "
   ]
  },
  {
   "cell_type": "markdown",
   "metadata": {},
   "source": [
    "## Fine tune the randomforest classifier\n",
    " + We will perform random search and find best paramneter for the random forest by checking the F1 score."
   ]
  },
  {
   "cell_type": "code",
   "execution_count": 573,
   "metadata": {},
   "outputs": [
    {
     "name": "stdout",
     "output_type": "stream",
     "text": [
      "Parameters currently in use:\n",
      "\n",
      "{'bootstrap': True,\n",
      " 'class_weight': None,\n",
      " 'criterion': 'gini',\n",
      " 'max_depth': None,\n",
      " 'max_features': 'auto',\n",
      " 'max_leaf_nodes': None,\n",
      " 'min_impurity_decrease': 0.0,\n",
      " 'min_impurity_split': None,\n",
      " 'min_samples_leaf': 1,\n",
      " 'min_samples_split': 2,\n",
      " 'min_weight_fraction_leaf': 0.0,\n",
      " 'n_estimators': 10,\n",
      " 'n_jobs': 1,\n",
      " 'oob_score': False,\n",
      " 'random_state': 42,\n",
      " 'verbose': 0,\n",
      " 'warm_start': False}\n"
     ]
    }
   ],
   "source": [
    "#First let us see the current parameters of the randomForest\n",
    "from pprint import pprint\n",
    "print('Parameters currently in use:\\n')\n",
    "pprint(base_random_forest.get_params())"
   ]
  },
  {
   "cell_type": "code",
   "execution_count": 574,
   "metadata": {},
   "outputs": [
    {
     "name": "stdout",
     "output_type": "stream",
     "text": [
      "{'bootstrap': [True, False],\n",
      " 'max_depth': [10, 11, 12, 13, 14, 15, 16, 17, 18, 20, None],\n",
      " 'max_features': ['auto', 'sqrt'],\n",
      " 'min_samples_leaf': [1, 2],\n",
      " 'min_samples_split': [2, 5],\n",
      " 'n_estimators': [10, 14, 18, 23, 27, 32, 36, 41, 45, 50]}\n"
     ]
    }
   ],
   "source": [
    "#Let us perform gridsearch for all the parameters\n",
    "from sklearn.model_selection import RandomizedSearchCV\n",
    "\n",
    "# Number of trees in random forest\n",
    "n_estimators = [int(x) for x in np.linspace(start = 10, stop = 50, num = 10)]\n",
    "\n",
    "# Number of features to consider at every split\n",
    "max_features = ['auto', 'sqrt']\n",
    "\n",
    "# Maximum number of levels in tree\n",
    "max_depth = [int(x) for x in np.linspace(10, 20, num = 10)]\n",
    "max_depth.append(None)\n",
    "\n",
    "# Minimum number of samples required to split a node\n",
    "min_samples_split = [2, 5]\n",
    "\n",
    "# Minimum number of samples required at each leaf node\n",
    "\n",
    "min_samples_leaf = [1, 2]\n",
    "\n",
    "# Method of selecting samples for training each tree\n",
    "bootstrap = [True, False]\n",
    "\n",
    "# Create the random grid\n",
    "random_grid = {'n_estimators': n_estimators,\n",
    "               'max_features': max_features,\n",
    "               'max_depth': max_depth,\n",
    "               'min_samples_split': min_samples_split,\n",
    "               'min_samples_leaf': min_samples_leaf,\n",
    "               'bootstrap': bootstrap}\n",
    "\n",
    "pprint(random_grid)\n"
   ]
  },
  {
   "cell_type": "code",
   "execution_count": 576,
   "metadata": {},
   "outputs": [
    {
     "name": "stdout",
     "output_type": "stream",
     "text": [
      "Fitting 3 folds for each of 100 candidates, totalling 300 fits\n",
      "[CV] n_estimators=32, min_samples_split=2, min_samples_leaf=1, max_features=auto, max_depth=13, bootstrap=False \n",
      "[CV] n_estimators=32, min_samples_split=2, min_samples_leaf=1, max_features=auto, max_depth=13, bootstrap=False \n",
      "[CV] n_estimators=32, min_samples_split=2, min_samples_leaf=1, max_features=auto, max_depth=13, bootstrap=False \n",
      "[CV] n_estimators=10, min_samples_split=5, min_samples_leaf=2, max_features=sqrt, max_depth=11, bootstrap=False \n",
      "[CV]  n_estimators=10, min_samples_split=5, min_samples_leaf=2, max_features=sqrt, max_depth=11, bootstrap=False, total=   1.7s\n",
      "[CV] n_estimators=10, min_samples_split=5, min_samples_leaf=2, max_features=sqrt, max_depth=11, bootstrap=False \n",
      "[CV]  n_estimators=10, min_samples_split=5, min_samples_leaf=2, max_features=sqrt, max_depth=11, bootstrap=False, total=   1.6s\n",
      "[CV] n_estimators=10, min_samples_split=5, min_samples_leaf=2, max_features=sqrt, max_depth=11, bootstrap=False \n",
      "[CV]  n_estimators=32, min_samples_split=2, min_samples_leaf=1, max_features=auto, max_depth=13, bootstrap=False, total=   5.5s\n",
      "[CV] n_estimators=23, min_samples_split=2, min_samples_leaf=1, max_features=auto, max_depth=None, bootstrap=False \n",
      "[CV]  n_estimators=32, min_samples_split=2, min_samples_leaf=1, max_features=auto, max_depth=13, bootstrap=False, total=   5.6s\n",
      "[CV]  n_estimators=32, min_samples_split=2, min_samples_leaf=1, max_features=auto, max_depth=13, bootstrap=False, total=   5.4s\n",
      "[CV] n_estimators=23, min_samples_split=2, min_samples_leaf=1, max_features=auto, max_depth=None, bootstrap=False \n",
      "[CV] n_estimators=23, min_samples_split=2, min_samples_leaf=1, max_features=auto, max_depth=None, bootstrap=False \n",
      "[CV]  n_estimators=10, min_samples_split=5, min_samples_leaf=2, max_features=sqrt, max_depth=11, bootstrap=False, total=   1.5s\n",
      "[CV] n_estimators=14, min_samples_split=2, min_samples_leaf=2, max_features=auto, max_depth=18, bootstrap=False \n",
      "[CV]  n_estimators=14, min_samples_split=2, min_samples_leaf=2, max_features=auto, max_depth=18, bootstrap=False, total=   3.0s\n",
      "[CV] n_estimators=14, min_samples_split=2, min_samples_leaf=2, max_features=auto, max_depth=18, bootstrap=False \n",
      "[CV]  n_estimators=23, min_samples_split=2, min_samples_leaf=1, max_features=auto, max_depth=None, bootstrap=False, total=   5.1s\n",
      "[CV] n_estimators=14, min_samples_split=2, min_samples_leaf=2, max_features=auto, max_depth=18, bootstrap=False \n",
      "[CV]  n_estimators=23, min_samples_split=2, min_samples_leaf=1, max_features=auto, max_depth=None, bootstrap=False, total=   5.4s\n",
      "[CV]  n_estimators=23, min_samples_split=2, min_samples_leaf=1, max_features=auto, max_depth=None, bootstrap=False, total=   5.3s\n",
      "[CV] n_estimators=27, min_samples_split=2, min_samples_leaf=2, max_features=auto, max_depth=14, bootstrap=True \n",
      "[CV] n_estimators=27, min_samples_split=2, min_samples_leaf=2, max_features=auto, max_depth=14, bootstrap=True \n",
      "[CV]  n_estimators=14, min_samples_split=2, min_samples_leaf=2, max_features=auto, max_depth=18, bootstrap=False, total=   3.9s\n",
      "[CV] n_estimators=27, min_samples_split=2, min_samples_leaf=2, max_features=auto, max_depth=14, bootstrap=True \n",
      "[CV]  n_estimators=14, min_samples_split=2, min_samples_leaf=2, max_features=auto, max_depth=18, bootstrap=False, total=   4.0s\n",
      "[CV] n_estimators=18, min_samples_split=2, min_samples_leaf=2, max_features=sqrt, max_depth=11, bootstrap=False \n",
      "[CV]  n_estimators=27, min_samples_split=2, min_samples_leaf=2, max_features=auto, max_depth=14, bootstrap=True, total=   5.1s\n",
      "[CV]  n_estimators=27, min_samples_split=2, min_samples_leaf=2, max_features=auto, max_depth=14, bootstrap=True, total=   4.8s\n",
      "[CV] n_estimators=18, min_samples_split=2, min_samples_leaf=2, max_features=sqrt, max_depth=11, bootstrap=False \n",
      "[CV] n_estimators=18, min_samples_split=2, min_samples_leaf=2, max_features=sqrt, max_depth=11, bootstrap=False \n",
      "[CV]  n_estimators=18, min_samples_split=2, min_samples_leaf=2, max_features=sqrt, max_depth=11, bootstrap=False, total=   3.1s\n",
      "[CV] n_estimators=10, min_samples_split=2, min_samples_leaf=1, max_features=sqrt, max_depth=17, bootstrap=False \n",
      "[CV]  n_estimators=27, min_samples_split=2, min_samples_leaf=2, max_features=auto, max_depth=14, bootstrap=True, total=   4.7s\n",
      "[CV] n_estimators=10, min_samples_split=2, min_samples_leaf=1, max_features=sqrt, max_depth=17, bootstrap=False \n",
      "[CV]  n_estimators=18, min_samples_split=2, min_samples_leaf=2, max_features=sqrt, max_depth=11, bootstrap=False, total=   3.1s\n",
      "[CV]  n_estimators=10, min_samples_split=2, min_samples_leaf=1, max_features=sqrt, max_depth=17, bootstrap=False, total=   1.8s\n",
      "[CV] n_estimators=10, min_samples_split=2, min_samples_leaf=1, max_features=sqrt, max_depth=17, bootstrap=False \n",
      "[CV]  n_estimators=10, min_samples_split=2, min_samples_leaf=1, max_features=sqrt, max_depth=17, bootstrap=False, total=   1.6s\n",
      "[CV]  n_estimators=18, min_samples_split=2, min_samples_leaf=2, max_features=sqrt, max_depth=11, bootstrap=False, total=   3.0s\n",
      "[CV] n_estimators=18, min_samples_split=2, min_samples_leaf=1, max_features=auto, max_depth=14, bootstrap=True \n",
      "[CV] n_estimators=18, min_samples_split=2, min_samples_leaf=1, max_features=auto, max_depth=14, bootstrap=True \n",
      "[CV] n_estimators=18, min_samples_split=2, min_samples_leaf=1, max_features=auto, max_depth=14, bootstrap=True \n",
      "[CV]  n_estimators=10, min_samples_split=2, min_samples_leaf=1, max_features=sqrt, max_depth=17, bootstrap=False, total=   2.3s\n",
      "[CV] n_estimators=36, min_samples_split=2, min_samples_leaf=1, max_features=sqrt, max_depth=16, bootstrap=False \n",
      "[CV]  n_estimators=18, min_samples_split=2, min_samples_leaf=1, max_features=auto, max_depth=14, bootstrap=True, total=   3.6s\n",
      "[CV]  n_estimators=18, min_samples_split=2, min_samples_leaf=1, max_features=auto, max_depth=14, bootstrap=True, total=   3.5s\n",
      "[CV] n_estimators=36, min_samples_split=2, min_samples_leaf=1, max_features=sqrt, max_depth=16, bootstrap=False \n",
      "[CV] n_estimators=36, min_samples_split=2, min_samples_leaf=1, max_features=sqrt, max_depth=16, bootstrap=False \n",
      "[CV]  n_estimators=18, min_samples_split=2, min_samples_leaf=1, max_features=auto, max_depth=14, bootstrap=True, total=   3.4s\n",
      "[CV] n_estimators=50, min_samples_split=5, min_samples_leaf=1, max_features=auto, max_depth=14, bootstrap=True \n",
      "[CV]  n_estimators=36, min_samples_split=2, min_samples_leaf=1, max_features=sqrt, max_depth=16, bootstrap=False, total=   6.6s\n",
      "[CV] n_estimators=50, min_samples_split=5, min_samples_leaf=1, max_features=auto, max_depth=14, bootstrap=True \n",
      "[CV]  n_estimators=36, min_samples_split=2, min_samples_leaf=1, max_features=sqrt, max_depth=16, bootstrap=False, total=   5.8s\n",
      "[CV] n_estimators=50, min_samples_split=5, min_samples_leaf=1, max_features=auto, max_depth=14, bootstrap=True \n",
      "[CV]  n_estimators=36, min_samples_split=2, min_samples_leaf=1, max_features=sqrt, max_depth=16, bootstrap=False, total=   5.9s\n",
      "[CV] n_estimators=10, min_samples_split=5, min_samples_leaf=2, max_features=sqrt, max_depth=10, bootstrap=True \n",
      "[CV]  n_estimators=50, min_samples_split=5, min_samples_leaf=1, max_features=auto, max_depth=14, bootstrap=True, total=   6.4s\n",
      "[CV] n_estimators=10, min_samples_split=5, min_samples_leaf=2, max_features=sqrt, max_depth=10, bootstrap=True \n",
      "[CV]  n_estimators=10, min_samples_split=5, min_samples_leaf=2, max_features=sqrt, max_depth=10, bootstrap=True, total=   1.2s\n",
      "[CV] n_estimators=10, min_samples_split=5, min_samples_leaf=2, max_features=sqrt, max_depth=10, bootstrap=True \n",
      "[CV]  n_estimators=10, min_samples_split=5, min_samples_leaf=2, max_features=sqrt, max_depth=10, bootstrap=True, total=   1.3s\n",
      "[CV] n_estimators=41, min_samples_split=5, min_samples_leaf=2, max_features=sqrt, max_depth=12, bootstrap=True \n",
      "[CV]  n_estimators=10, min_samples_split=5, min_samples_leaf=2, max_features=sqrt, max_depth=10, bootstrap=True, total=   1.2s\n",
      "[CV] n_estimators=41, min_samples_split=5, min_samples_leaf=2, max_features=sqrt, max_depth=12, bootstrap=True \n",
      "[CV]  n_estimators=50, min_samples_split=5, min_samples_leaf=1, max_features=auto, max_depth=14, bootstrap=True, total=   6.4s\n",
      "[CV] n_estimators=41, min_samples_split=5, min_samples_leaf=2, max_features=sqrt, max_depth=12, bootstrap=True \n"
     ]
    },
    {
     "name": "stdout",
     "output_type": "stream",
     "text": [
      "[CV]  n_estimators=50, min_samples_split=5, min_samples_leaf=1, max_features=auto, max_depth=14, bootstrap=True, total=   6.3s\n"
     ]
    },
    {
     "name": "stderr",
     "output_type": "stream",
     "text": [
      "[Parallel(n_jobs=-1)]: Done  33 tasks      | elapsed:   44.2s\n"
     ]
    },
    {
     "name": "stdout",
     "output_type": "stream",
     "text": [
      "[CV] n_estimators=18, min_samples_split=2, min_samples_leaf=2, max_features=sqrt, max_depth=14, bootstrap=True \n",
      "[CV]  n_estimators=41, min_samples_split=5, min_samples_leaf=2, max_features=sqrt, max_depth=12, bootstrap=True, total=   4.8s\n",
      "[CV] n_estimators=18, min_samples_split=2, min_samples_leaf=2, max_features=sqrt, max_depth=14, bootstrap=True \n",
      "[CV]  n_estimators=41, min_samples_split=5, min_samples_leaf=2, max_features=sqrt, max_depth=12, bootstrap=True, total=   4.6s\n",
      "[CV] n_estimators=18, min_samples_split=2, min_samples_leaf=2, max_features=sqrt, max_depth=14, bootstrap=True \n",
      "[CV]  n_estimators=18, min_samples_split=2, min_samples_leaf=2, max_features=sqrt, max_depth=14, bootstrap=True, total=   2.1s\n",
      "[CV] n_estimators=32, min_samples_split=5, min_samples_leaf=1, max_features=sqrt, max_depth=11, bootstrap=True \n",
      "[CV]  n_estimators=18, min_samples_split=2, min_samples_leaf=2, max_features=sqrt, max_depth=14, bootstrap=True, total=   2.2s\n",
      "[CV] n_estimators=32, min_samples_split=5, min_samples_leaf=1, max_features=sqrt, max_depth=11, bootstrap=True \n",
      "[CV]  n_estimators=41, min_samples_split=5, min_samples_leaf=2, max_features=sqrt, max_depth=12, bootstrap=True, total=   4.7s\n",
      "[CV]  n_estimators=18, min_samples_split=2, min_samples_leaf=2, max_features=sqrt, max_depth=14, bootstrap=True, total=   2.2s\n",
      "[CV] n_estimators=32, min_samples_split=5, min_samples_leaf=1, max_features=sqrt, max_depth=11, bootstrap=True \n",
      "[CV] n_estimators=27, min_samples_split=2, min_samples_leaf=1, max_features=auto, max_depth=11, bootstrap=False \n",
      "[CV]  n_estimators=32, min_samples_split=5, min_samples_leaf=1, max_features=sqrt, max_depth=11, bootstrap=True, total=   3.5s\n",
      "[CV] n_estimators=27, min_samples_split=2, min_samples_leaf=1, max_features=auto, max_depth=11, bootstrap=False \n",
      "[CV]  n_estimators=32, min_samples_split=5, min_samples_leaf=1, max_features=sqrt, max_depth=11, bootstrap=True, total=   3.6s\n",
      "[CV]  n_estimators=27, min_samples_split=2, min_samples_leaf=1, max_features=auto, max_depth=11, bootstrap=False, total=   3.2s\n",
      "[CV] n_estimators=27, min_samples_split=2, min_samples_leaf=1, max_features=auto, max_depth=11, bootstrap=False \n",
      "[CV] n_estimators=10, min_samples_split=2, min_samples_leaf=2, max_features=auto, max_depth=18, bootstrap=True \n",
      "[CV]  n_estimators=32, min_samples_split=5, min_samples_leaf=1, max_features=sqrt, max_depth=11, bootstrap=True, total=   3.6s\n",
      "[CV] n_estimators=10, min_samples_split=2, min_samples_leaf=2, max_features=auto, max_depth=18, bootstrap=True \n",
      "[CV]  n_estimators=10, min_samples_split=2, min_samples_leaf=2, max_features=auto, max_depth=18, bootstrap=True, total=   1.3s\n",
      "[CV] n_estimators=10, min_samples_split=2, min_samples_leaf=2, max_features=auto, max_depth=18, bootstrap=True \n",
      "[CV]  n_estimators=27, min_samples_split=2, min_samples_leaf=1, max_features=auto, max_depth=11, bootstrap=False, total=   3.5s\n",
      "[CV]  n_estimators=10, min_samples_split=2, min_samples_leaf=2, max_features=auto, max_depth=18, bootstrap=True, total=   1.3s\n",
      "[CV] n_estimators=50, min_samples_split=2, min_samples_leaf=2, max_features=auto, max_depth=15, bootstrap=True \n",
      "[CV] n_estimators=50, min_samples_split=2, min_samples_leaf=2, max_features=auto, max_depth=15, bootstrap=True \n",
      "[CV]  n_estimators=10, min_samples_split=2, min_samples_leaf=2, max_features=auto, max_depth=18, bootstrap=True, total=   1.5s\n",
      "[CV] n_estimators=50, min_samples_split=2, min_samples_leaf=2, max_features=auto, max_depth=15, bootstrap=True \n",
      "[CV]  n_estimators=27, min_samples_split=2, min_samples_leaf=1, max_features=auto, max_depth=11, bootstrap=False, total=   3.8s\n",
      "[CV] n_estimators=23, min_samples_split=5, min_samples_leaf=1, max_features=auto, max_depth=11, bootstrap=False \n",
      "[CV]  n_estimators=23, min_samples_split=5, min_samples_leaf=1, max_features=auto, max_depth=11, bootstrap=False, total=   2.9s\n",
      "[CV] n_estimators=23, min_samples_split=5, min_samples_leaf=1, max_features=auto, max_depth=11, bootstrap=False \n",
      "[CV]  n_estimators=50, min_samples_split=2, min_samples_leaf=2, max_features=auto, max_depth=15, bootstrap=True, total=   6.0s\n",
      "[CV]  n_estimators=50, min_samples_split=2, min_samples_leaf=2, max_features=auto, max_depth=15, bootstrap=True, total=   5.9s\n",
      "[CV] n_estimators=23, min_samples_split=5, min_samples_leaf=1, max_features=auto, max_depth=11, bootstrap=False \n",
      "[CV] n_estimators=10, min_samples_split=2, min_samples_leaf=2, max_features=auto, max_depth=14, bootstrap=False \n",
      "[CV]  n_estimators=50, min_samples_split=2, min_samples_leaf=2, max_features=auto, max_depth=15, bootstrap=True, total=   6.1s\n",
      "[CV] n_estimators=10, min_samples_split=2, min_samples_leaf=2, max_features=auto, max_depth=14, bootstrap=False \n",
      "[CV]  n_estimators=10, min_samples_split=2, min_samples_leaf=2, max_features=auto, max_depth=14, bootstrap=False, total=   1.4s\n",
      "[CV]  n_estimators=23, min_samples_split=5, min_samples_leaf=1, max_features=auto, max_depth=11, bootstrap=False, total=   3.1s\n",
      "[CV] n_estimators=10, min_samples_split=2, min_samples_leaf=2, max_features=auto, max_depth=14, bootstrap=False \n",
      "[CV] n_estimators=45, min_samples_split=5, min_samples_leaf=1, max_features=auto, max_depth=13, bootstrap=False \n",
      "[CV]  n_estimators=23, min_samples_split=5, min_samples_leaf=1, max_features=auto, max_depth=11, bootstrap=False, total=   3.0s\n",
      "[CV]  n_estimators=10, min_samples_split=2, min_samples_leaf=2, max_features=auto, max_depth=14, bootstrap=False, total=   1.6s\n",
      "[CV] n_estimators=45, min_samples_split=5, min_samples_leaf=1, max_features=auto, max_depth=13, bootstrap=False \n",
      "[CV] n_estimators=45, min_samples_split=5, min_samples_leaf=1, max_features=auto, max_depth=13, bootstrap=False \n",
      "[CV]  n_estimators=10, min_samples_split=2, min_samples_leaf=2, max_features=auto, max_depth=14, bootstrap=False, total=   1.5s\n",
      "[CV] n_estimators=14, min_samples_split=5, min_samples_leaf=2, max_features=auto, max_depth=11, bootstrap=True \n",
      "[CV]  n_estimators=14, min_samples_split=5, min_samples_leaf=2, max_features=auto, max_depth=11, bootstrap=True, total=   1.6s\n",
      "[CV] n_estimators=14, min_samples_split=5, min_samples_leaf=2, max_features=auto, max_depth=11, bootstrap=True \n",
      "[CV]  n_estimators=14, min_samples_split=5, min_samples_leaf=2, max_features=auto, max_depth=11, bootstrap=True, total=   1.5s\n",
      "[CV] n_estimators=14, min_samples_split=5, min_samples_leaf=2, max_features=auto, max_depth=11, bootstrap=True \n",
      "[CV]  n_estimators=45, min_samples_split=5, min_samples_leaf=1, max_features=auto, max_depth=13, bootstrap=False, total=   5.9s\n",
      "[CV] n_estimators=36, min_samples_split=2, min_samples_leaf=1, max_features=auto, max_depth=16, bootstrap=True \n",
      "[CV]  n_estimators=14, min_samples_split=5, min_samples_leaf=2, max_features=auto, max_depth=11, bootstrap=True, total=   1.8s\n",
      "[CV] n_estimators=36, min_samples_split=2, min_samples_leaf=1, max_features=auto, max_depth=16, bootstrap=True \n",
      "[CV]  n_estimators=45, min_samples_split=5, min_samples_leaf=1, max_features=auto, max_depth=13, bootstrap=False, total=   6.1s\n",
      "[CV]  n_estimators=45, min_samples_split=5, min_samples_leaf=1, max_features=auto, max_depth=13, bootstrap=False, total=   6.3s\n",
      "[CV] n_estimators=36, min_samples_split=2, min_samples_leaf=1, max_features=auto, max_depth=16, bootstrap=True \n",
      "[CV] n_estimators=14, min_samples_split=5, min_samples_leaf=1, max_features=auto, max_depth=18, bootstrap=False \n",
      "[CV]  n_estimators=14, min_samples_split=5, min_samples_leaf=1, max_features=auto, max_depth=18, bootstrap=False, total=   2.0s\n",
      "[CV] n_estimators=14, min_samples_split=5, min_samples_leaf=1, max_features=auto, max_depth=18, bootstrap=False \n",
      "[CV]  n_estimators=36, min_samples_split=2, min_samples_leaf=1, max_features=auto, max_depth=16, bootstrap=True, total=   4.5s\n",
      "[CV] n_estimators=14, min_samples_split=5, min_samples_leaf=1, max_features=auto, max_depth=18, bootstrap=False \n",
      "[CV]  n_estimators=36, min_samples_split=2, min_samples_leaf=1, max_features=auto, max_depth=16, bootstrap=True, total=   4.6s\n",
      "[CV] n_estimators=45, min_samples_split=5, min_samples_leaf=2, max_features=auto, max_depth=18, bootstrap=True \n",
      "[CV]  n_estimators=36, min_samples_split=2, min_samples_leaf=1, max_features=auto, max_depth=16, bootstrap=True, total=   4.6s\n",
      "[CV]  n_estimators=14, min_samples_split=5, min_samples_leaf=1, max_features=auto, max_depth=18, bootstrap=False, total=   2.1s\n"
     ]
    },
    {
     "name": "stdout",
     "output_type": "stream",
     "text": [
      "[CV] n_estimators=45, min_samples_split=5, min_samples_leaf=2, max_features=auto, max_depth=18, bootstrap=True \n",
      "[CV] n_estimators=45, min_samples_split=5, min_samples_leaf=2, max_features=auto, max_depth=18, bootstrap=True \n",
      "[CV]  n_estimators=14, min_samples_split=5, min_samples_leaf=1, max_features=auto, max_depth=18, bootstrap=False, total=   2.3s\n",
      "[CV] n_estimators=23, min_samples_split=5, min_samples_leaf=1, max_features=sqrt, max_depth=15, bootstrap=True \n",
      "[CV]  n_estimators=23, min_samples_split=5, min_samples_leaf=1, max_features=sqrt, max_depth=15, bootstrap=True, total=   2.9s\n",
      "[CV] n_estimators=23, min_samples_split=5, min_samples_leaf=1, max_features=sqrt, max_depth=15, bootstrap=True \n",
      "[CV]  n_estimators=45, min_samples_split=5, min_samples_leaf=2, max_features=auto, max_depth=18, bootstrap=True, total=   6.0s\n",
      "[CV] n_estimators=23, min_samples_split=5, min_samples_leaf=1, max_features=sqrt, max_depth=15, bootstrap=True \n",
      "[CV]  n_estimators=45, min_samples_split=5, min_samples_leaf=2, max_features=auto, max_depth=18, bootstrap=True, total=   6.1s\n",
      "[CV] n_estimators=36, min_samples_split=5, min_samples_leaf=2, max_features=auto, max_depth=10, bootstrap=False \n",
      "[CV]  n_estimators=45, min_samples_split=5, min_samples_leaf=2, max_features=auto, max_depth=18, bootstrap=True, total=   6.2s\n",
      "[CV] n_estimators=36, min_samples_split=5, min_samples_leaf=2, max_features=auto, max_depth=10, bootstrap=False \n",
      "[CV]  n_estimators=23, min_samples_split=5, min_samples_leaf=1, max_features=sqrt, max_depth=15, bootstrap=True, total=   3.0s\n",
      "[CV] n_estimators=36, min_samples_split=5, min_samples_leaf=2, max_features=auto, max_depth=10, bootstrap=False \n",
      "[CV]  n_estimators=23, min_samples_split=5, min_samples_leaf=1, max_features=sqrt, max_depth=15, bootstrap=True, total=   3.0s\n",
      "[CV] n_estimators=18, min_samples_split=2, min_samples_leaf=1, max_features=sqrt, max_depth=16, bootstrap=True \n",
      "[CV]  n_estimators=36, min_samples_split=5, min_samples_leaf=2, max_features=auto, max_depth=10, bootstrap=False, total=   4.5s\n",
      "[CV] n_estimators=18, min_samples_split=2, min_samples_leaf=1, max_features=sqrt, max_depth=16, bootstrap=True \n",
      "[CV]  n_estimators=36, min_samples_split=5, min_samples_leaf=2, max_features=auto, max_depth=10, bootstrap=False, total=   4.5s\n",
      "[CV] n_estimators=18, min_samples_split=2, min_samples_leaf=1, max_features=sqrt, max_depth=16, bootstrap=True \n",
      "[CV]  n_estimators=18, min_samples_split=2, min_samples_leaf=1, max_features=sqrt, max_depth=16, bootstrap=True, total=   2.2s\n",
      "[CV] n_estimators=23, min_samples_split=2, min_samples_leaf=2, max_features=sqrt, max_depth=16, bootstrap=False \n",
      "[CV]  n_estimators=36, min_samples_split=5, min_samples_leaf=2, max_features=auto, max_depth=10, bootstrap=False, total=   4.5s\n",
      "[CV] n_estimators=23, min_samples_split=2, min_samples_leaf=2, max_features=sqrt, max_depth=16, bootstrap=False \n",
      "[CV]  n_estimators=18, min_samples_split=2, min_samples_leaf=1, max_features=sqrt, max_depth=16, bootstrap=True, total=   2.5s\n",
      "[CV] n_estimators=23, min_samples_split=2, min_samples_leaf=2, max_features=sqrt, max_depth=16, bootstrap=False \n",
      "[CV]  n_estimators=18, min_samples_split=2, min_samples_leaf=1, max_features=sqrt, max_depth=16, bootstrap=True, total=   2.5s\n",
      "[CV] n_estimators=18, min_samples_split=5, min_samples_leaf=2, max_features=auto, max_depth=None, bootstrap=True \n",
      "[CV]  n_estimators=23, min_samples_split=2, min_samples_leaf=2, max_features=sqrt, max_depth=16, bootstrap=False, total=   3.4s\n",
      "[CV] n_estimators=18, min_samples_split=5, min_samples_leaf=2, max_features=auto, max_depth=None, bootstrap=True \n",
      "[CV]  n_estimators=23, min_samples_split=2, min_samples_leaf=2, max_features=sqrt, max_depth=16, bootstrap=False, total=   3.2s\n",
      "[CV] n_estimators=18, min_samples_split=5, min_samples_leaf=2, max_features=auto, max_depth=None, bootstrap=True \n",
      "[CV]  n_estimators=18, min_samples_split=5, min_samples_leaf=2, max_features=auto, max_depth=None, bootstrap=True, total=   2.2s\n",
      "[CV] n_estimators=45, min_samples_split=2, min_samples_leaf=2, max_features=auto, max_depth=12, bootstrap=True \n",
      "[CV]  n_estimators=23, min_samples_split=2, min_samples_leaf=2, max_features=sqrt, max_depth=16, bootstrap=False, total=   3.2s\n",
      "[CV] n_estimators=45, min_samples_split=2, min_samples_leaf=2, max_features=auto, max_depth=12, bootstrap=True \n",
      "[CV]  n_estimators=18, min_samples_split=5, min_samples_leaf=2, max_features=auto, max_depth=None, bootstrap=True, total=   2.2s\n",
      "[CV] n_estimators=45, min_samples_split=2, min_samples_leaf=2, max_features=auto, max_depth=12, bootstrap=True \n",
      "[CV]  n_estimators=18, min_samples_split=5, min_samples_leaf=2, max_features=auto, max_depth=None, bootstrap=True, total=   2.1s\n",
      "[CV] n_estimators=10, min_samples_split=2, min_samples_leaf=1, max_features=auto, max_depth=17, bootstrap=False \n",
      "[CV]  n_estimators=10, min_samples_split=2, min_samples_leaf=1, max_features=auto, max_depth=17, bootstrap=False, total=   1.5s\n",
      "[CV] n_estimators=10, min_samples_split=2, min_samples_leaf=1, max_features=auto, max_depth=17, bootstrap=False \n",
      "[CV]  n_estimators=10, min_samples_split=2, min_samples_leaf=1, max_features=auto, max_depth=17, bootstrap=False, total=   1.4s\n",
      "[CV] n_estimators=10, min_samples_split=2, min_samples_leaf=1, max_features=auto, max_depth=17, bootstrap=False \n",
      "[CV]  n_estimators=45, min_samples_split=2, min_samples_leaf=2, max_features=auto, max_depth=12, bootstrap=True, total=   4.9s\n",
      "[CV] n_estimators=41, min_samples_split=2, min_samples_leaf=2, max_features=sqrt, max_depth=20, bootstrap=True \n",
      "[CV]  n_estimators=45, min_samples_split=2, min_samples_leaf=2, max_features=auto, max_depth=12, bootstrap=True, total=   5.1s\n",
      "[CV] n_estimators=41, min_samples_split=2, min_samples_leaf=2, max_features=sqrt, max_depth=20, bootstrap=True \n",
      "[CV]  n_estimators=45, min_samples_split=2, min_samples_leaf=2, max_features=auto, max_depth=12, bootstrap=True, total=   5.0s\n",
      "[CV] n_estimators=41, min_samples_split=2, min_samples_leaf=2, max_features=sqrt, max_depth=20, bootstrap=True \n",
      "[CV]  n_estimators=10, min_samples_split=2, min_samples_leaf=1, max_features=auto, max_depth=17, bootstrap=False, total=   1.8s\n",
      "[CV] n_estimators=41, min_samples_split=2, min_samples_leaf=2, max_features=sqrt, max_depth=None, bootstrap=False \n",
      "[CV]  n_estimators=41, min_samples_split=2, min_samples_leaf=2, max_features=sqrt, max_depth=20, bootstrap=True, total=   4.8s\n",
      "[CV] n_estimators=41, min_samples_split=2, min_samples_leaf=2, max_features=sqrt, max_depth=None, bootstrap=False \n",
      "[CV]  n_estimators=41, min_samples_split=2, min_samples_leaf=2, max_features=sqrt, max_depth=20, bootstrap=True, total=   4.9s\n",
      "[CV] n_estimators=41, min_samples_split=2, min_samples_leaf=2, max_features=sqrt, max_depth=None, bootstrap=False \n",
      "[CV]  n_estimators=41, min_samples_split=2, min_samples_leaf=2, max_features=sqrt, max_depth=20, bootstrap=True, total=   4.6s\n",
      "[CV] n_estimators=27, min_samples_split=5, min_samples_leaf=1, max_features=sqrt, max_depth=13, bootstrap=False \n",
      "[CV]  n_estimators=41, min_samples_split=2, min_samples_leaf=2, max_features=sqrt, max_depth=None, bootstrap=False, total=   5.7s\n",
      "[CV] n_estimators=27, min_samples_split=5, min_samples_leaf=1, max_features=sqrt, max_depth=13, bootstrap=False \n",
      "[CV]  n_estimators=27, min_samples_split=5, min_samples_leaf=1, max_features=sqrt, max_depth=13, bootstrap=False, total=   3.6s\n",
      "[CV] n_estimators=27, min_samples_split=5, min_samples_leaf=1, max_features=sqrt, max_depth=13, bootstrap=False \n",
      "[CV]  n_estimators=41, min_samples_split=2, min_samples_leaf=2, max_features=sqrt, max_depth=None, bootstrap=False, total=   5.8s\n",
      "[CV] n_estimators=27, min_samples_split=5, min_samples_leaf=2, max_features=sqrt, max_depth=16, bootstrap=True \n",
      "[CV]  n_estimators=27, min_samples_split=5, min_samples_leaf=1, max_features=sqrt, max_depth=13, bootstrap=False, total=   3.6s\n",
      "[CV] n_estimators=27, min_samples_split=5, min_samples_leaf=2, max_features=sqrt, max_depth=16, bootstrap=True \n",
      "[CV]  n_estimators=41, min_samples_split=2, min_samples_leaf=2, max_features=sqrt, max_depth=None, bootstrap=False, total=   5.8s\n",
      "[CV] n_estimators=27, min_samples_split=5, min_samples_leaf=2, max_features=sqrt, max_depth=16, bootstrap=True \n",
      "[CV]  n_estimators=27, min_samples_split=5, min_samples_leaf=1, max_features=sqrt, max_depth=13, bootstrap=False, total=   3.6s\n"
     ]
    },
    {
     "name": "stdout",
     "output_type": "stream",
     "text": [
      "[CV] n_estimators=41, min_samples_split=5, min_samples_leaf=2, max_features=auto, max_depth=11, bootstrap=False \n",
      "[CV]  n_estimators=27, min_samples_split=5, min_samples_leaf=2, max_features=sqrt, max_depth=16, bootstrap=True, total=   3.3s\n",
      "[CV] n_estimators=41, min_samples_split=5, min_samples_leaf=2, max_features=auto, max_depth=11, bootstrap=False \n",
      "[CV]  n_estimators=27, min_samples_split=5, min_samples_leaf=2, max_features=sqrt, max_depth=16, bootstrap=True, total=   3.3s\n",
      "[CV] n_estimators=41, min_samples_split=5, min_samples_leaf=2, max_features=auto, max_depth=11, bootstrap=False \n",
      "[CV]  n_estimators=27, min_samples_split=5, min_samples_leaf=2, max_features=sqrt, max_depth=16, bootstrap=True, total=   3.2s\n",
      "[CV] n_estimators=50, min_samples_split=2, min_samples_leaf=2, max_features=auto, max_depth=10, bootstrap=True \n",
      "[CV]  n_estimators=41, min_samples_split=5, min_samples_leaf=2, max_features=auto, max_depth=11, bootstrap=False, total=   4.9s\n",
      "[CV] n_estimators=50, min_samples_split=2, min_samples_leaf=2, max_features=auto, max_depth=10, bootstrap=True \n",
      "[CV]  n_estimators=41, min_samples_split=5, min_samples_leaf=2, max_features=auto, max_depth=11, bootstrap=False, total=   5.0s\n",
      "[CV] n_estimators=50, min_samples_split=2, min_samples_leaf=2, max_features=auto, max_depth=10, bootstrap=True \n",
      "[CV]  n_estimators=41, min_samples_split=5, min_samples_leaf=2, max_features=auto, max_depth=11, bootstrap=False, total=   4.9s\n",
      "[CV] n_estimators=32, min_samples_split=5, min_samples_leaf=2, max_features=auto, max_depth=11, bootstrap=True \n",
      "[CV]  n_estimators=50, min_samples_split=2, min_samples_leaf=2, max_features=auto, max_depth=10, bootstrap=True, total=   4.9s\n",
      "[CV] n_estimators=32, min_samples_split=5, min_samples_leaf=2, max_features=auto, max_depth=11, bootstrap=True \n",
      "[CV]  n_estimators=32, min_samples_split=5, min_samples_leaf=2, max_features=auto, max_depth=11, bootstrap=True, total=   3.5s\n",
      "[CV] n_estimators=32, min_samples_split=5, min_samples_leaf=2, max_features=auto, max_depth=11, bootstrap=True \n",
      "[CV]  n_estimators=50, min_samples_split=2, min_samples_leaf=2, max_features=auto, max_depth=10, bootstrap=True, total=   5.3s\n",
      "[CV]  n_estimators=32, min_samples_split=5, min_samples_leaf=2, max_features=auto, max_depth=11, bootstrap=True, total=   3.6s\n",
      "[CV] n_estimators=45, min_samples_split=2, min_samples_leaf=2, max_features=auto, max_depth=None, bootstrap=False \n",
      "[CV] n_estimators=45, min_samples_split=2, min_samples_leaf=2, max_features=auto, max_depth=None, bootstrap=False \n",
      "[CV]  n_estimators=50, min_samples_split=2, min_samples_leaf=2, max_features=auto, max_depth=10, bootstrap=True, total=   5.3s\n",
      "[CV] n_estimators=45, min_samples_split=2, min_samples_leaf=2, max_features=auto, max_depth=None, bootstrap=False \n",
      "[CV]  n_estimators=32, min_samples_split=5, min_samples_leaf=2, max_features=auto, max_depth=11, bootstrap=True, total=   3.5s\n",
      "[CV] n_estimators=23, min_samples_split=2, min_samples_leaf=2, max_features=sqrt, max_depth=13, bootstrap=True \n",
      "[CV]  n_estimators=23, min_samples_split=2, min_samples_leaf=2, max_features=sqrt, max_depth=13, bootstrap=True, total=   3.6s\n",
      "[CV] n_estimators=23, min_samples_split=2, min_samples_leaf=2, max_features=sqrt, max_depth=13, bootstrap=True \n",
      "[CV]  n_estimators=45, min_samples_split=2, min_samples_leaf=2, max_features=auto, max_depth=None, bootstrap=False, total=   7.9s\n",
      "[CV] n_estimators=23, min_samples_split=2, min_samples_leaf=2, max_features=sqrt, max_depth=13, bootstrap=True \n",
      "[CV]  n_estimators=45, min_samples_split=2, min_samples_leaf=2, max_features=auto, max_depth=None, bootstrap=False, total=   7.9s\n",
      "[CV] n_estimators=14, min_samples_split=2, min_samples_leaf=2, max_features=sqrt, max_depth=18, bootstrap=False \n",
      "[CV]  n_estimators=45, min_samples_split=2, min_samples_leaf=2, max_features=auto, max_depth=None, bootstrap=False, total=   8.1s\n",
      "[CV] n_estimators=14, min_samples_split=2, min_samples_leaf=2, max_features=sqrt, max_depth=18, bootstrap=False \n",
      "[CV]  n_estimators=23, min_samples_split=2, min_samples_leaf=2, max_features=sqrt, max_depth=13, bootstrap=True, total=   4.1s\n",
      "[CV] n_estimators=14, min_samples_split=2, min_samples_leaf=2, max_features=sqrt, max_depth=18, bootstrap=False \n",
      "[CV]  n_estimators=14, min_samples_split=2, min_samples_leaf=2, max_features=sqrt, max_depth=18, bootstrap=False, total=   3.0s\n",
      "[CV] n_estimators=32, min_samples_split=2, min_samples_leaf=2, max_features=sqrt, max_depth=10, bootstrap=True \n",
      "[CV]  n_estimators=23, min_samples_split=2, min_samples_leaf=2, max_features=sqrt, max_depth=13, bootstrap=True, total=   3.9s\n",
      "[CV]  n_estimators=14, min_samples_split=2, min_samples_leaf=2, max_features=sqrt, max_depth=18, bootstrap=False, total=   3.1s\n",
      "[CV] n_estimators=32, min_samples_split=2, min_samples_leaf=2, max_features=sqrt, max_depth=10, bootstrap=True \n",
      "[CV] n_estimators=32, min_samples_split=2, min_samples_leaf=2, max_features=sqrt, max_depth=10, bootstrap=True \n",
      "[CV]  n_estimators=14, min_samples_split=2, min_samples_leaf=2, max_features=sqrt, max_depth=18, bootstrap=False, total=   3.2s\n",
      "[CV] n_estimators=18, min_samples_split=5, min_samples_leaf=1, max_features=sqrt, max_depth=12, bootstrap=True \n",
      "[CV]  n_estimators=32, min_samples_split=2, min_samples_leaf=2, max_features=sqrt, max_depth=10, bootstrap=True, total=   4.9s\n",
      "[CV] n_estimators=18, min_samples_split=5, min_samples_leaf=1, max_features=sqrt, max_depth=12, bootstrap=True \n",
      "[CV]  n_estimators=32, min_samples_split=2, min_samples_leaf=2, max_features=sqrt, max_depth=10, bootstrap=True, total=   4.8s\n",
      "[CV]  n_estimators=32, min_samples_split=2, min_samples_leaf=2, max_features=sqrt, max_depth=10, bootstrap=True, total=   4.6s\n",
      "[CV] n_estimators=18, min_samples_split=5, min_samples_leaf=1, max_features=sqrt, max_depth=12, bootstrap=True \n",
      "[CV]  n_estimators=18, min_samples_split=5, min_samples_leaf=1, max_features=sqrt, max_depth=12, bootstrap=True, total=   2.7s\n",
      "[CV] n_estimators=23, min_samples_split=5, min_samples_leaf=2, max_features=sqrt, max_depth=14, bootstrap=False \n",
      "[CV] n_estimators=23, min_samples_split=5, min_samples_leaf=2, max_features=sqrt, max_depth=14, bootstrap=False \n",
      "[CV]  n_estimators=18, min_samples_split=5, min_samples_leaf=1, max_features=sqrt, max_depth=12, bootstrap=True, total=   3.3s\n",
      "[CV] n_estimators=23, min_samples_split=5, min_samples_leaf=2, max_features=sqrt, max_depth=14, bootstrap=False \n",
      "[CV]  n_estimators=18, min_samples_split=5, min_samples_leaf=1, max_features=sqrt, max_depth=12, bootstrap=True, total=   3.7s\n",
      "[CV] n_estimators=27, min_samples_split=2, min_samples_leaf=2, max_features=auto, max_depth=11, bootstrap=False \n",
      "[CV]  n_estimators=23, min_samples_split=5, min_samples_leaf=2, max_features=sqrt, max_depth=14, bootstrap=False, total=   4.9s\n",
      "[CV] n_estimators=27, min_samples_split=2, min_samples_leaf=2, max_features=auto, max_depth=11, bootstrap=False \n",
      "[CV]  n_estimators=23, min_samples_split=5, min_samples_leaf=2, max_features=sqrt, max_depth=14, bootstrap=False, total=   5.4s\n",
      "[CV] n_estimators=27, min_samples_split=2, min_samples_leaf=2, max_features=auto, max_depth=11, bootstrap=False \n",
      "[CV]  n_estimators=23, min_samples_split=5, min_samples_leaf=2, max_features=sqrt, max_depth=14, bootstrap=False, total=   5.0s\n",
      "[CV] n_estimators=50, min_samples_split=2, min_samples_leaf=2, max_features=auto, max_depth=14, bootstrap=False \n",
      "[CV]  n_estimators=27, min_samples_split=2, min_samples_leaf=2, max_features=auto, max_depth=11, bootstrap=False, total=   5.4s\n",
      "[CV] n_estimators=50, min_samples_split=2, min_samples_leaf=2, max_features=auto, max_depth=14, bootstrap=False \n",
      "[CV]  n_estimators=27, min_samples_split=2, min_samples_leaf=2, max_features=auto, max_depth=11, bootstrap=False, total=   5.1s\n",
      "[CV] n_estimators=50, min_samples_split=2, min_samples_leaf=2, max_features=auto, max_depth=14, bootstrap=False \n",
      "[CV]  n_estimators=27, min_samples_split=2, min_samples_leaf=2, max_features=auto, max_depth=11, bootstrap=False, total=   4.7s\n",
      "[CV] n_estimators=10, min_samples_split=5, min_samples_leaf=2, max_features=sqrt, max_depth=15, bootstrap=False \n",
      "[CV]  n_estimators=10, min_samples_split=5, min_samples_leaf=2, max_features=sqrt, max_depth=15, bootstrap=False, total=   1.6s\n",
      "[CV] n_estimators=10, min_samples_split=5, min_samples_leaf=2, max_features=sqrt, max_depth=15, bootstrap=False \n"
     ]
    },
    {
     "name": "stdout",
     "output_type": "stream",
     "text": [
      "[CV]  n_estimators=10, min_samples_split=5, min_samples_leaf=2, max_features=sqrt, max_depth=15, bootstrap=False, total=   1.5s\n",
      "[CV] n_estimators=10, min_samples_split=5, min_samples_leaf=2, max_features=sqrt, max_depth=15, bootstrap=False \n",
      "[CV]  n_estimators=50, min_samples_split=2, min_samples_leaf=2, max_features=auto, max_depth=14, bootstrap=False, total=   7.0s\n",
      "[CV] n_estimators=14, min_samples_split=2, min_samples_leaf=2, max_features=sqrt, max_depth=12, bootstrap=False \n",
      "[CV]  n_estimators=10, min_samples_split=5, min_samples_leaf=2, max_features=sqrt, max_depth=15, bootstrap=False, total=   1.4s\n",
      "[CV] n_estimators=14, min_samples_split=2, min_samples_leaf=2, max_features=sqrt, max_depth=12, bootstrap=False \n",
      "[CV]  n_estimators=50, min_samples_split=2, min_samples_leaf=2, max_features=auto, max_depth=14, bootstrap=False, total=   7.3s\n",
      "[CV] n_estimators=14, min_samples_split=2, min_samples_leaf=2, max_features=sqrt, max_depth=12, bootstrap=False \n",
      "[CV]  n_estimators=14, min_samples_split=2, min_samples_leaf=2, max_features=sqrt, max_depth=12, bootstrap=False, total=   1.8s\n",
      "[CV] n_estimators=41, min_samples_split=2, min_samples_leaf=2, max_features=sqrt, max_depth=15, bootstrap=False \n",
      "[CV]  n_estimators=50, min_samples_split=2, min_samples_leaf=2, max_features=auto, max_depth=14, bootstrap=False, total=   7.2s\n",
      "[CV] n_estimators=41, min_samples_split=2, min_samples_leaf=2, max_features=sqrt, max_depth=15, bootstrap=False \n",
      "[CV]  n_estimators=14, min_samples_split=2, min_samples_leaf=2, max_features=sqrt, max_depth=12, bootstrap=False, total=   1.9s\n",
      "[CV] n_estimators=41, min_samples_split=2, min_samples_leaf=2, max_features=sqrt, max_depth=15, bootstrap=False \n",
      "[CV]  n_estimators=14, min_samples_split=2, min_samples_leaf=2, max_features=sqrt, max_depth=12, bootstrap=False, total=   1.9s\n",
      "[CV] n_estimators=36, min_samples_split=5, min_samples_leaf=2, max_features=auto, max_depth=12, bootstrap=True \n",
      "[CV]  n_estimators=36, min_samples_split=5, min_samples_leaf=2, max_features=auto, max_depth=12, bootstrap=True, total=   3.9s\n",
      "[CV] n_estimators=36, min_samples_split=5, min_samples_leaf=2, max_features=auto, max_depth=12, bootstrap=True \n",
      "[CV]  n_estimators=41, min_samples_split=2, min_samples_leaf=2, max_features=sqrt, max_depth=15, bootstrap=False, total=   5.6s\n",
      "[CV] n_estimators=36, min_samples_split=5, min_samples_leaf=2, max_features=auto, max_depth=12, bootstrap=True \n",
      "[CV]  n_estimators=41, min_samples_split=2, min_samples_leaf=2, max_features=sqrt, max_depth=15, bootstrap=False, total=   5.5s\n",
      "[CV] n_estimators=18, min_samples_split=2, min_samples_leaf=1, max_features=auto, max_depth=20, bootstrap=True \n",
      "[CV]  n_estimators=41, min_samples_split=2, min_samples_leaf=2, max_features=sqrt, max_depth=15, bootstrap=False, total=   5.5s\n",
      "[CV] n_estimators=18, min_samples_split=2, min_samples_leaf=1, max_features=auto, max_depth=20, bootstrap=True \n",
      "[CV]  n_estimators=18, min_samples_split=2, min_samples_leaf=1, max_features=auto, max_depth=20, bootstrap=True, total=   2.5s\n",
      "[CV] n_estimators=18, min_samples_split=2, min_samples_leaf=1, max_features=auto, max_depth=20, bootstrap=True \n",
      "[CV]  n_estimators=18, min_samples_split=2, min_samples_leaf=1, max_features=auto, max_depth=20, bootstrap=True, total=   2.4s\n",
      "[CV] n_estimators=41, min_samples_split=5, min_samples_leaf=1, max_features=auto, max_depth=16, bootstrap=False \n",
      "[CV]  n_estimators=36, min_samples_split=5, min_samples_leaf=2, max_features=auto, max_depth=12, bootstrap=True, total=   4.2s\n",
      "[CV] n_estimators=41, min_samples_split=5, min_samples_leaf=1, max_features=auto, max_depth=16, bootstrap=False \n",
      "[CV]  n_estimators=36, min_samples_split=5, min_samples_leaf=2, max_features=auto, max_depth=12, bootstrap=True, total=   4.2s\n",
      "[CV] n_estimators=41, min_samples_split=5, min_samples_leaf=1, max_features=auto, max_depth=16, bootstrap=False \n",
      "[CV]  n_estimators=18, min_samples_split=2, min_samples_leaf=1, max_features=auto, max_depth=20, bootstrap=True, total=   2.5s\n",
      "[CV] n_estimators=18, min_samples_split=2, min_samples_leaf=2, max_features=sqrt, max_depth=10, bootstrap=False \n",
      "[CV]  n_estimators=18, min_samples_split=2, min_samples_leaf=2, max_features=sqrt, max_depth=10, bootstrap=False, total=   2.1s\n"
     ]
    },
    {
     "name": "stderr",
     "output_type": "stream",
     "text": [
      "[Parallel(n_jobs=-1)]: Done 154 tasks      | elapsed:  3.2min\n"
     ]
    },
    {
     "name": "stdout",
     "output_type": "stream",
     "text": [
      "[CV] n_estimators=18, min_samples_split=2, min_samples_leaf=2, max_features=sqrt, max_depth=10, bootstrap=False \n",
      "[CV]  n_estimators=41, min_samples_split=5, min_samples_leaf=1, max_features=auto, max_depth=16, bootstrap=False, total=   5.8s\n",
      "[CV] n_estimators=18, min_samples_split=2, min_samples_leaf=2, max_features=sqrt, max_depth=10, bootstrap=False \n",
      "[CV]  n_estimators=41, min_samples_split=5, min_samples_leaf=1, max_features=auto, max_depth=16, bootstrap=False, total=   5.8s\n",
      "[CV] n_estimators=50, min_samples_split=5, min_samples_leaf=2, max_features=sqrt, max_depth=18, bootstrap=False \n",
      "[CV]  n_estimators=18, min_samples_split=2, min_samples_leaf=2, max_features=sqrt, max_depth=10, bootstrap=False, total=   2.0s\n",
      "[CV]  n_estimators=41, min_samples_split=5, min_samples_leaf=1, max_features=auto, max_depth=16, bootstrap=False, total=   5.6s\n",
      "[CV] n_estimators=50, min_samples_split=5, min_samples_leaf=2, max_features=sqrt, max_depth=18, bootstrap=False \n",
      "[CV] n_estimators=50, min_samples_split=5, min_samples_leaf=2, max_features=sqrt, max_depth=18, bootstrap=False \n",
      "[CV]  n_estimators=18, min_samples_split=2, min_samples_leaf=2, max_features=sqrt, max_depth=10, bootstrap=False, total=   2.2s\n",
      "[CV] n_estimators=18, min_samples_split=5, min_samples_leaf=2, max_features=sqrt, max_depth=None, bootstrap=False \n",
      "[CV]  n_estimators=18, min_samples_split=5, min_samples_leaf=2, max_features=sqrt, max_depth=None, bootstrap=False, total=   2.4s\n",
      "[CV] n_estimators=18, min_samples_split=5, min_samples_leaf=2, max_features=sqrt, max_depth=None, bootstrap=False \n",
      "[CV]  n_estimators=50, min_samples_split=5, min_samples_leaf=2, max_features=sqrt, max_depth=18, bootstrap=False, total=   6.6s\n",
      "[CV] n_estimators=18, min_samples_split=5, min_samples_leaf=2, max_features=sqrt, max_depth=None, bootstrap=False \n",
      "[CV]  n_estimators=18, min_samples_split=5, min_samples_leaf=2, max_features=sqrt, max_depth=None, bootstrap=False, total=   2.4s\n",
      "[CV]  n_estimators=50, min_samples_split=5, min_samples_leaf=2, max_features=sqrt, max_depth=18, bootstrap=False, total=   6.7s\n",
      "[CV] n_estimators=45, min_samples_split=5, min_samples_leaf=2, max_features=auto, max_depth=15, bootstrap=True \n",
      "[CV]  n_estimators=50, min_samples_split=5, min_samples_leaf=2, max_features=sqrt, max_depth=18, bootstrap=False, total=   6.9s\n",
      "[CV] n_estimators=45, min_samples_split=5, min_samples_leaf=2, max_features=auto, max_depth=15, bootstrap=True \n",
      "[CV] n_estimators=45, min_samples_split=5, min_samples_leaf=2, max_features=auto, max_depth=15, bootstrap=True \n",
      "[CV]  n_estimators=18, min_samples_split=5, min_samples_leaf=2, max_features=sqrt, max_depth=None, bootstrap=False, total=   2.7s\n",
      "[CV] n_estimators=36, min_samples_split=2, min_samples_leaf=1, max_features=auto, max_depth=20, bootstrap=False \n",
      "[CV]  n_estimators=45, min_samples_split=5, min_samples_leaf=2, max_features=auto, max_depth=15, bootstrap=True, total=   5.3s\n",
      "[CV] n_estimators=36, min_samples_split=2, min_samples_leaf=1, max_features=auto, max_depth=20, bootstrap=False \n",
      "[CV]  n_estimators=45, min_samples_split=5, min_samples_leaf=2, max_features=auto, max_depth=15, bootstrap=True, total=   5.3s\n",
      "[CV]  n_estimators=45, min_samples_split=5, min_samples_leaf=2, max_features=auto, max_depth=15, bootstrap=True, total=   5.2s\n",
      "[CV] n_estimators=36, min_samples_split=2, min_samples_leaf=1, max_features=auto, max_depth=20, bootstrap=False \n",
      "[CV] n_estimators=50, min_samples_split=2, min_samples_leaf=1, max_features=auto, max_depth=14, bootstrap=False \n",
      "[CV]  n_estimators=36, min_samples_split=2, min_samples_leaf=1, max_features=auto, max_depth=20, bootstrap=False, total=   5.6s\n",
      "[CV] n_estimators=50, min_samples_split=2, min_samples_leaf=1, max_features=auto, max_depth=14, bootstrap=False \n",
      "[CV]  n_estimators=36, min_samples_split=2, min_samples_leaf=1, max_features=auto, max_depth=20, bootstrap=False, total=   5.5s\n",
      "[CV]  n_estimators=36, min_samples_split=2, min_samples_leaf=1, max_features=auto, max_depth=20, bootstrap=False, total=   5.2s\n",
      "[CV] n_estimators=50, min_samples_split=2, min_samples_leaf=1, max_features=auto, max_depth=14, bootstrap=False \n",
      "[CV] n_estimators=45, min_samples_split=2, min_samples_leaf=1, max_features=auto, max_depth=16, bootstrap=False \n",
      "[CV]  n_estimators=50, min_samples_split=2, min_samples_leaf=1, max_features=auto, max_depth=14, bootstrap=False, total=   6.7s\n",
      "[CV] n_estimators=45, min_samples_split=2, min_samples_leaf=1, max_features=auto, max_depth=16, bootstrap=False \n",
      "[CV]  n_estimators=50, min_samples_split=2, min_samples_leaf=1, max_features=auto, max_depth=14, bootstrap=False, total=   6.5s\n",
      "[CV] n_estimators=45, min_samples_split=2, min_samples_leaf=1, max_features=auto, max_depth=16, bootstrap=False \n",
      "[CV]  n_estimators=45, min_samples_split=2, min_samples_leaf=1, max_features=auto, max_depth=16, bootstrap=False, total=   6.2s\n",
      "[CV] n_estimators=18, min_samples_split=2, min_samples_leaf=1, max_features=auto, max_depth=16, bootstrap=True \n",
      "[CV]  n_estimators=50, min_samples_split=2, min_samples_leaf=1, max_features=auto, max_depth=14, bootstrap=False, total=   6.8s\n",
      "[CV] n_estimators=18, min_samples_split=2, min_samples_leaf=1, max_features=auto, max_depth=16, bootstrap=True \n",
      "[CV]  n_estimators=45, min_samples_split=2, min_samples_leaf=1, max_features=auto, max_depth=16, bootstrap=False, total=   6.1s\n",
      "[CV] n_estimators=18, min_samples_split=2, min_samples_leaf=1, max_features=auto, max_depth=16, bootstrap=True \n",
      "[CV]  n_estimators=18, min_samples_split=2, min_samples_leaf=1, max_features=auto, max_depth=16, bootstrap=True, total=   2.3s\n",
      "[CV] n_estimators=23, min_samples_split=2, min_samples_leaf=2, max_features=auto, max_depth=10, bootstrap=True \n",
      "[CV]  n_estimators=18, min_samples_split=2, min_samples_leaf=1, max_features=auto, max_depth=16, bootstrap=True, total=   2.2s\n",
      "[CV] n_estimators=23, min_samples_split=2, min_samples_leaf=2, max_features=auto, max_depth=10, bootstrap=True \n",
      "[CV]  n_estimators=45, min_samples_split=2, min_samples_leaf=1, max_features=auto, max_depth=16, bootstrap=False, total=   6.6s\n",
      "[CV] n_estimators=23, min_samples_split=2, min_samples_leaf=2, max_features=auto, max_depth=10, bootstrap=True \n",
      "[CV]  n_estimators=18, min_samples_split=2, min_samples_leaf=1, max_features=auto, max_depth=16, bootstrap=True, total=   2.3s\n",
      "[CV] n_estimators=10, min_samples_split=5, min_samples_leaf=1, max_features=sqrt, max_depth=12, bootstrap=True \n",
      "[CV]  n_estimators=23, min_samples_split=2, min_samples_leaf=2, max_features=auto, max_depth=10, bootstrap=True, total=   2.5s\n",
      "[CV] n_estimators=10, min_samples_split=5, min_samples_leaf=1, max_features=sqrt, max_depth=12, bootstrap=True \n",
      "[CV]  n_estimators=10, min_samples_split=5, min_samples_leaf=1, max_features=sqrt, max_depth=12, bootstrap=True, total=   1.3s\n",
      "[CV] n_estimators=10, min_samples_split=5, min_samples_leaf=1, max_features=sqrt, max_depth=12, bootstrap=True \n",
      "[CV]  n_estimators=23, min_samples_split=2, min_samples_leaf=2, max_features=auto, max_depth=10, bootstrap=True, total=   2.7s\n",
      "[CV] n_estimators=45, min_samples_split=2, min_samples_leaf=2, max_features=auto, max_depth=17, bootstrap=True \n",
      "[CV]  n_estimators=23, min_samples_split=2, min_samples_leaf=2, max_features=auto, max_depth=10, bootstrap=True, total=   2.7s\n",
      "[CV]  n_estimators=10, min_samples_split=5, min_samples_leaf=1, max_features=sqrt, max_depth=12, bootstrap=True, total=   1.4s\n",
      "[CV] n_estimators=45, min_samples_split=2, min_samples_leaf=2, max_features=auto, max_depth=17, bootstrap=True \n",
      "[CV] n_estimators=45, min_samples_split=2, min_samples_leaf=2, max_features=auto, max_depth=17, bootstrap=True \n",
      "[CV]  n_estimators=10, min_samples_split=5, min_samples_leaf=1, max_features=sqrt, max_depth=12, bootstrap=True, total=   1.3s\n",
      "[CV] n_estimators=50, min_samples_split=5, min_samples_leaf=2, max_features=sqrt, max_depth=15, bootstrap=True \n",
      "[CV]  n_estimators=45, min_samples_split=2, min_samples_leaf=2, max_features=auto, max_depth=17, bootstrap=True, total=   5.5s\n",
      "[CV] n_estimators=50, min_samples_split=5, min_samples_leaf=2, max_features=sqrt, max_depth=15, bootstrap=True \n",
      "[CV]  n_estimators=45, min_samples_split=2, min_samples_leaf=2, max_features=auto, max_depth=17, bootstrap=True, total=   5.4s\n",
      "[CV]  n_estimators=45, min_samples_split=2, min_samples_leaf=2, max_features=auto, max_depth=17, bootstrap=True, total=   5.3s\n"
     ]
    },
    {
     "name": "stdout",
     "output_type": "stream",
     "text": [
      "[CV] n_estimators=50, min_samples_split=5, min_samples_leaf=2, max_features=sqrt, max_depth=15, bootstrap=True \n",
      "[CV] n_estimators=18, min_samples_split=2, min_samples_leaf=2, max_features=auto, max_depth=14, bootstrap=False \n",
      "[CV]  n_estimators=50, min_samples_split=5, min_samples_leaf=2, max_features=sqrt, max_depth=15, bootstrap=True, total=   5.6s\n",
      "[CV] n_estimators=18, min_samples_split=2, min_samples_leaf=2, max_features=auto, max_depth=14, bootstrap=False \n",
      "[CV]  n_estimators=18, min_samples_split=2, min_samples_leaf=2, max_features=auto, max_depth=14, bootstrap=False, total=   2.6s\n",
      "[CV] n_estimators=18, min_samples_split=2, min_samples_leaf=2, max_features=auto, max_depth=14, bootstrap=False \n",
      "[CV]  n_estimators=18, min_samples_split=2, min_samples_leaf=2, max_features=auto, max_depth=14, bootstrap=False, total=   2.5s\n",
      "[CV] n_estimators=41, min_samples_split=2, min_samples_leaf=1, max_features=auto, max_depth=13, bootstrap=True \n",
      "[CV]  n_estimators=50, min_samples_split=5, min_samples_leaf=2, max_features=sqrt, max_depth=15, bootstrap=True, total=   6.9s\n",
      "[CV] n_estimators=41, min_samples_split=2, min_samples_leaf=1, max_features=auto, max_depth=13, bootstrap=True \n",
      "[CV]  n_estimators=18, min_samples_split=2, min_samples_leaf=2, max_features=auto, max_depth=14, bootstrap=False, total=   3.4s\n",
      "[CV] n_estimators=41, min_samples_split=2, min_samples_leaf=1, max_features=auto, max_depth=13, bootstrap=True \n",
      "[CV]  n_estimators=50, min_samples_split=5, min_samples_leaf=2, max_features=sqrt, max_depth=15, bootstrap=True, total=   7.0s\n",
      "[CV] n_estimators=45, min_samples_split=5, min_samples_leaf=2, max_features=auto, max_depth=None, bootstrap=True \n",
      "[CV]  n_estimators=41, min_samples_split=2, min_samples_leaf=1, max_features=auto, max_depth=13, bootstrap=True, total=   4.5s\n",
      "[CV] n_estimators=45, min_samples_split=5, min_samples_leaf=2, max_features=auto, max_depth=None, bootstrap=True \n",
      "[CV]  n_estimators=41, min_samples_split=2, min_samples_leaf=1, max_features=auto, max_depth=13, bootstrap=True, total=   4.4s\n",
      "[CV] n_estimators=45, min_samples_split=5, min_samples_leaf=2, max_features=auto, max_depth=None, bootstrap=True \n",
      "[CV]  n_estimators=41, min_samples_split=2, min_samples_leaf=1, max_features=auto, max_depth=13, bootstrap=True, total=   4.4s\n",
      "[CV] n_estimators=50, min_samples_split=2, min_samples_leaf=2, max_features=sqrt, max_depth=18, bootstrap=False \n",
      "[CV]  n_estimators=45, min_samples_split=5, min_samples_leaf=2, max_features=auto, max_depth=None, bootstrap=True, total=   4.7s\n",
      "[CV] n_estimators=50, min_samples_split=2, min_samples_leaf=2, max_features=sqrt, max_depth=18, bootstrap=False \n",
      "[CV]  n_estimators=45, min_samples_split=5, min_samples_leaf=2, max_features=auto, max_depth=None, bootstrap=True, total=   4.8s\n",
      "[CV] n_estimators=50, min_samples_split=2, min_samples_leaf=2, max_features=sqrt, max_depth=18, bootstrap=False \n",
      "[CV]  n_estimators=45, min_samples_split=5, min_samples_leaf=2, max_features=auto, max_depth=None, bootstrap=True, total=   4.9s\n",
      "[CV] n_estimators=50, min_samples_split=5, min_samples_leaf=2, max_features=sqrt, max_depth=20, bootstrap=False \n",
      "[CV]  n_estimators=50, min_samples_split=2, min_samples_leaf=2, max_features=sqrt, max_depth=18, bootstrap=False, total=   6.3s\n",
      "[CV] n_estimators=50, min_samples_split=5, min_samples_leaf=2, max_features=sqrt, max_depth=20, bootstrap=False \n",
      "[CV]  n_estimators=50, min_samples_split=2, min_samples_leaf=2, max_features=sqrt, max_depth=18, bootstrap=False, total=   6.3s\n",
      "[CV] n_estimators=50, min_samples_split=5, min_samples_leaf=2, max_features=sqrt, max_depth=20, bootstrap=False \n",
      "[CV]  n_estimators=50, min_samples_split=2, min_samples_leaf=2, max_features=sqrt, max_depth=18, bootstrap=False, total=   6.2s\n",
      "[CV] n_estimators=32, min_samples_split=2, min_samples_leaf=2, max_features=sqrt, max_depth=18, bootstrap=True \n",
      "[CV]  n_estimators=50, min_samples_split=5, min_samples_leaf=2, max_features=sqrt, max_depth=20, bootstrap=False, total=   6.4s\n",
      "[CV] n_estimators=32, min_samples_split=2, min_samples_leaf=2, max_features=sqrt, max_depth=18, bootstrap=True \n",
      "[CV]  n_estimators=50, min_samples_split=5, min_samples_leaf=2, max_features=sqrt, max_depth=20, bootstrap=False, total=   6.3s\n",
      "[CV] n_estimators=32, min_samples_split=2, min_samples_leaf=2, max_features=sqrt, max_depth=18, bootstrap=True \n",
      "[CV]  n_estimators=32, min_samples_split=2, min_samples_leaf=2, max_features=sqrt, max_depth=18, bootstrap=True, total=   3.3s\n",
      "[CV] n_estimators=10, min_samples_split=2, min_samples_leaf=2, max_features=sqrt, max_depth=17, bootstrap=True \n",
      "[CV]  n_estimators=50, min_samples_split=5, min_samples_leaf=2, max_features=sqrt, max_depth=20, bootstrap=False, total=   6.1s\n",
      "[CV] n_estimators=10, min_samples_split=2, min_samples_leaf=2, max_features=sqrt, max_depth=17, bootstrap=True \n",
      "[CV]  n_estimators=10, min_samples_split=2, min_samples_leaf=2, max_features=sqrt, max_depth=17, bootstrap=True, total=   1.1s\n",
      "[CV] n_estimators=10, min_samples_split=2, min_samples_leaf=2, max_features=sqrt, max_depth=17, bootstrap=True \n",
      "[CV]  n_estimators=32, min_samples_split=2, min_samples_leaf=2, max_features=sqrt, max_depth=18, bootstrap=True, total=   3.4s\n",
      "[CV] n_estimators=50, min_samples_split=2, min_samples_leaf=1, max_features=sqrt, max_depth=13, bootstrap=True \n",
      "[CV]  n_estimators=10, min_samples_split=2, min_samples_leaf=2, max_features=sqrt, max_depth=17, bootstrap=True, total=   1.1s\n",
      "[CV] n_estimators=50, min_samples_split=2, min_samples_leaf=1, max_features=sqrt, max_depth=13, bootstrap=True \n",
      "[CV]  n_estimators=10, min_samples_split=2, min_samples_leaf=2, max_features=sqrt, max_depth=17, bootstrap=True, total=   1.2s\n",
      "[CV] n_estimators=50, min_samples_split=2, min_samples_leaf=1, max_features=sqrt, max_depth=13, bootstrap=True \n",
      "[CV]  n_estimators=32, min_samples_split=2, min_samples_leaf=2, max_features=sqrt, max_depth=18, bootstrap=True, total=   3.5s\n",
      "[CV] n_estimators=32, min_samples_split=5, min_samples_leaf=1, max_features=auto, max_depth=17, bootstrap=False \n",
      "[CV]  n_estimators=50, min_samples_split=2, min_samples_leaf=1, max_features=sqrt, max_depth=13, bootstrap=True, total=   5.2s\n",
      "[CV] n_estimators=32, min_samples_split=5, min_samples_leaf=1, max_features=auto, max_depth=17, bootstrap=False \n",
      "[CV]  n_estimators=32, min_samples_split=5, min_samples_leaf=1, max_features=auto, max_depth=17, bootstrap=False, total=   4.1s\n",
      "[CV]  n_estimators=50, min_samples_split=2, min_samples_leaf=1, max_features=sqrt, max_depth=13, bootstrap=True, total=   5.3s\n",
      "[CV] n_estimators=32, min_samples_split=5, min_samples_leaf=1, max_features=auto, max_depth=17, bootstrap=False \n",
      "[CV] n_estimators=32, min_samples_split=2, min_samples_leaf=1, max_features=sqrt, max_depth=14, bootstrap=True \n",
      "[CV]  n_estimators=50, min_samples_split=2, min_samples_leaf=1, max_features=sqrt, max_depth=13, bootstrap=True, total=   5.3s\n",
      "[CV] n_estimators=32, min_samples_split=2, min_samples_leaf=1, max_features=sqrt, max_depth=14, bootstrap=True \n",
      "[CV]  n_estimators=32, min_samples_split=2, min_samples_leaf=1, max_features=sqrt, max_depth=14, bootstrap=True, total=   3.4s\n",
      "[CV] n_estimators=32, min_samples_split=2, min_samples_leaf=1, max_features=sqrt, max_depth=14, bootstrap=True \n",
      "[CV]  n_estimators=32, min_samples_split=5, min_samples_leaf=1, max_features=auto, max_depth=17, bootstrap=False, total=   4.2s\n",
      "[CV] n_estimators=50, min_samples_split=5, min_samples_leaf=1, max_features=sqrt, max_depth=17, bootstrap=True \n",
      "[CV]  n_estimators=32, min_samples_split=2, min_samples_leaf=1, max_features=sqrt, max_depth=14, bootstrap=True, total=   3.4s\n",
      "[CV] n_estimators=50, min_samples_split=5, min_samples_leaf=1, max_features=sqrt, max_depth=17, bootstrap=True \n",
      "[CV]  n_estimators=32, min_samples_split=5, min_samples_leaf=1, max_features=auto, max_depth=17, bootstrap=False, total=   4.2s\n",
      "[CV] n_estimators=50, min_samples_split=5, min_samples_leaf=1, max_features=sqrt, max_depth=17, bootstrap=True \n",
      "[CV]  n_estimators=32, min_samples_split=2, min_samples_leaf=1, max_features=sqrt, max_depth=14, bootstrap=True, total=   3.4s\n",
      "[CV] n_estimators=50, min_samples_split=2, min_samples_leaf=2, max_features=auto, max_depth=11, bootstrap=True \n",
      "[CV]  n_estimators=50, min_samples_split=5, min_samples_leaf=1, max_features=sqrt, max_depth=17, bootstrap=True, total=   5.5s\n"
     ]
    },
    {
     "name": "stdout",
     "output_type": "stream",
     "text": [
      "[CV] n_estimators=50, min_samples_split=2, min_samples_leaf=2, max_features=auto, max_depth=11, bootstrap=True \n",
      "[CV]  n_estimators=50, min_samples_split=5, min_samples_leaf=1, max_features=sqrt, max_depth=17, bootstrap=True, total=   5.5s\n",
      "[CV] n_estimators=50, min_samples_split=2, min_samples_leaf=2, max_features=auto, max_depth=11, bootstrap=True \n",
      "[CV]  n_estimators=50, min_samples_split=5, min_samples_leaf=1, max_features=sqrt, max_depth=17, bootstrap=True, total=   5.4s\n",
      "[CV] n_estimators=23, min_samples_split=5, min_samples_leaf=1, max_features=auto, max_depth=12, bootstrap=False \n",
      "[CV]  n_estimators=50, min_samples_split=2, min_samples_leaf=2, max_features=auto, max_depth=11, bootstrap=True, total=   4.9s\n",
      "[CV] n_estimators=23, min_samples_split=5, min_samples_leaf=1, max_features=auto, max_depth=12, bootstrap=False \n",
      "[CV]  n_estimators=23, min_samples_split=5, min_samples_leaf=1, max_features=auto, max_depth=12, bootstrap=False, total=   2.8s\n",
      "[CV] n_estimators=23, min_samples_split=5, min_samples_leaf=1, max_features=auto, max_depth=12, bootstrap=False \n",
      "[CV]  n_estimators=50, min_samples_split=2, min_samples_leaf=2, max_features=auto, max_depth=11, bootstrap=True, total=   4.8s\n",
      "[CV] n_estimators=23, min_samples_split=2, min_samples_leaf=2, max_features=auto, max_depth=10, bootstrap=False \n",
      "[CV]  n_estimators=50, min_samples_split=2, min_samples_leaf=2, max_features=auto, max_depth=11, bootstrap=True, total=   4.7s\n",
      "[CV] n_estimators=23, min_samples_split=2, min_samples_leaf=2, max_features=auto, max_depth=10, bootstrap=False \n",
      "[CV]  n_estimators=23, min_samples_split=5, min_samples_leaf=1, max_features=auto, max_depth=12, bootstrap=False, total=   2.7s\n",
      "[CV] n_estimators=23, min_samples_split=2, min_samples_leaf=2, max_features=auto, max_depth=10, bootstrap=False \n",
      "[CV]  n_estimators=23, min_samples_split=5, min_samples_leaf=1, max_features=auto, max_depth=12, bootstrap=False, total=   2.6s\n",
      "[CV] n_estimators=14, min_samples_split=2, min_samples_leaf=2, max_features=auto, max_depth=None, bootstrap=False \n",
      "[CV]  n_estimators=23, min_samples_split=2, min_samples_leaf=2, max_features=auto, max_depth=10, bootstrap=False, total=   2.5s\n",
      "[CV] n_estimators=14, min_samples_split=2, min_samples_leaf=2, max_features=auto, max_depth=None, bootstrap=False \n",
      "[CV]  n_estimators=23, min_samples_split=2, min_samples_leaf=2, max_features=auto, max_depth=10, bootstrap=False, total=   2.5s\n",
      "[CV] n_estimators=14, min_samples_split=2, min_samples_leaf=2, max_features=auto, max_depth=None, bootstrap=False \n",
      "[CV]  n_estimators=14, min_samples_split=2, min_samples_leaf=2, max_features=auto, max_depth=None, bootstrap=False, total=   1.7s\n",
      "[CV]  n_estimators=23, min_samples_split=2, min_samples_leaf=2, max_features=auto, max_depth=10, bootstrap=False, total=   2.5s\n",
      "[CV] n_estimators=27, min_samples_split=5, min_samples_leaf=2, max_features=auto, max_depth=20, bootstrap=True \n",
      "[CV] n_estimators=27, min_samples_split=5, min_samples_leaf=2, max_features=auto, max_depth=20, bootstrap=True \n",
      "[CV]  n_estimators=14, min_samples_split=2, min_samples_leaf=2, max_features=auto, max_depth=None, bootstrap=False, total=   2.0s\n",
      "[CV] n_estimators=27, min_samples_split=5, min_samples_leaf=2, max_features=auto, max_depth=20, bootstrap=True \n",
      "[CV]  n_estimators=14, min_samples_split=2, min_samples_leaf=2, max_features=auto, max_depth=None, bootstrap=False, total=   2.1s\n",
      "[CV] n_estimators=36, min_samples_split=5, min_samples_leaf=1, max_features=auto, max_depth=18, bootstrap=False \n",
      "[CV]  n_estimators=27, min_samples_split=5, min_samples_leaf=2, max_features=auto, max_depth=20, bootstrap=True, total=   3.3s\n",
      "[CV] n_estimators=36, min_samples_split=5, min_samples_leaf=1, max_features=auto, max_depth=18, bootstrap=False \n",
      "[CV]  n_estimators=27, min_samples_split=5, min_samples_leaf=2, max_features=auto, max_depth=20, bootstrap=True, total=   3.4s\n",
      "[CV] n_estimators=36, min_samples_split=5, min_samples_leaf=1, max_features=auto, max_depth=18, bootstrap=False \n",
      "[CV]  n_estimators=27, min_samples_split=5, min_samples_leaf=2, max_features=auto, max_depth=20, bootstrap=True, total=   3.0s\n",
      "[CV] n_estimators=41, min_samples_split=5, min_samples_leaf=1, max_features=auto, max_depth=17, bootstrap=False \n",
      "[CV]  n_estimators=36, min_samples_split=5, min_samples_leaf=1, max_features=auto, max_depth=18, bootstrap=False, total=   4.7s\n",
      "[CV] n_estimators=41, min_samples_split=5, min_samples_leaf=1, max_features=auto, max_depth=17, bootstrap=False \n",
      "[CV]  n_estimators=36, min_samples_split=5, min_samples_leaf=1, max_features=auto, max_depth=18, bootstrap=False, total=   4.8s\n",
      "[CV] n_estimators=41, min_samples_split=5, min_samples_leaf=1, max_features=auto, max_depth=17, bootstrap=False \n",
      "[CV]  n_estimators=36, min_samples_split=5, min_samples_leaf=1, max_features=auto, max_depth=18, bootstrap=False, total=   4.8s\n",
      "[CV] n_estimators=27, min_samples_split=5, min_samples_leaf=1, max_features=sqrt, max_depth=18, bootstrap=True \n",
      "[CV]  n_estimators=41, min_samples_split=5, min_samples_leaf=1, max_features=auto, max_depth=17, bootstrap=False, total=   5.2s\n",
      "[CV] n_estimators=27, min_samples_split=5, min_samples_leaf=1, max_features=sqrt, max_depth=18, bootstrap=True \n",
      "[CV]  n_estimators=27, min_samples_split=5, min_samples_leaf=1, max_features=sqrt, max_depth=18, bootstrap=True, total=   2.9s\n",
      "[CV] n_estimators=27, min_samples_split=5, min_samples_leaf=1, max_features=sqrt, max_depth=18, bootstrap=True \n",
      "[CV]  n_estimators=41, min_samples_split=5, min_samples_leaf=1, max_features=auto, max_depth=17, bootstrap=False, total=   5.3s\n",
      "[CV] n_estimators=41, min_samples_split=2, min_samples_leaf=1, max_features=sqrt, max_depth=16, bootstrap=True \n",
      "[CV]  n_estimators=27, min_samples_split=5, min_samples_leaf=1, max_features=sqrt, max_depth=18, bootstrap=True, total=   3.0s\n",
      "[CV] n_estimators=41, min_samples_split=2, min_samples_leaf=1, max_features=sqrt, max_depth=16, bootstrap=True \n",
      "[CV]  n_estimators=41, min_samples_split=5, min_samples_leaf=1, max_features=auto, max_depth=17, bootstrap=False, total=   5.3s\n",
      "[CV] n_estimators=41, min_samples_split=2, min_samples_leaf=1, max_features=sqrt, max_depth=16, bootstrap=True \n",
      "[CV]  n_estimators=27, min_samples_split=5, min_samples_leaf=1, max_features=sqrt, max_depth=18, bootstrap=True, total=   3.1s\n",
      "[CV] n_estimators=45, min_samples_split=2, min_samples_leaf=1, max_features=auto, max_depth=17, bootstrap=False \n",
      "[CV]  n_estimators=41, min_samples_split=2, min_samples_leaf=1, max_features=sqrt, max_depth=16, bootstrap=True, total=   4.5s\n",
      "[CV] n_estimators=45, min_samples_split=2, min_samples_leaf=1, max_features=auto, max_depth=17, bootstrap=False \n",
      "[CV]  n_estimators=41, min_samples_split=2, min_samples_leaf=1, max_features=sqrt, max_depth=16, bootstrap=True, total=   4.5s\n",
      "[CV] n_estimators=45, min_samples_split=2, min_samples_leaf=1, max_features=auto, max_depth=17, bootstrap=False \n",
      "[CV]  n_estimators=41, min_samples_split=2, min_samples_leaf=1, max_features=sqrt, max_depth=16, bootstrap=True, total=   4.6s\n",
      "[CV] n_estimators=32, min_samples_split=5, min_samples_leaf=2, max_features=auto, max_depth=20, bootstrap=False \n",
      "[CV]  n_estimators=45, min_samples_split=2, min_samples_leaf=1, max_features=auto, max_depth=17, bootstrap=False, total=   6.0s\n",
      "[CV] n_estimators=32, min_samples_split=5, min_samples_leaf=2, max_features=auto, max_depth=20, bootstrap=False \n",
      "[CV]  n_estimators=32, min_samples_split=5, min_samples_leaf=2, max_features=auto, max_depth=20, bootstrap=False, total=   5.0s\n",
      "[CV] n_estimators=32, min_samples_split=5, min_samples_leaf=2, max_features=auto, max_depth=20, bootstrap=False \n",
      "[CV]  n_estimators=45, min_samples_split=2, min_samples_leaf=1, max_features=auto, max_depth=17, bootstrap=False, total=   7.3s\n",
      "[CV] n_estimators=27, min_samples_split=5, min_samples_leaf=1, max_features=sqrt, max_depth=16, bootstrap=True \n",
      "[CV]  n_estimators=45, min_samples_split=2, min_samples_leaf=1, max_features=auto, max_depth=17, bootstrap=False, total=   7.4s\n",
      "[CV] n_estimators=27, min_samples_split=5, min_samples_leaf=1, max_features=sqrt, max_depth=16, bootstrap=True \n",
      "[CV]  n_estimators=32, min_samples_split=5, min_samples_leaf=2, max_features=auto, max_depth=20, bootstrap=False, total=   6.6s\n",
      "[CV] n_estimators=27, min_samples_split=5, min_samples_leaf=1, max_features=sqrt, max_depth=16, bootstrap=True \n"
     ]
    },
    {
     "name": "stdout",
     "output_type": "stream",
     "text": [
      "[CV]  n_estimators=27, min_samples_split=5, min_samples_leaf=1, max_features=sqrt, max_depth=16, bootstrap=True, total=   5.0s\n",
      "[CV] n_estimators=27, min_samples_split=5, min_samples_leaf=2, max_features=auto, max_depth=10, bootstrap=False \n",
      "[CV]  n_estimators=32, min_samples_split=5, min_samples_leaf=2, max_features=auto, max_depth=20, bootstrap=False, total=   7.0s\n",
      "[CV] n_estimators=27, min_samples_split=5, min_samples_leaf=2, max_features=auto, max_depth=10, bootstrap=False \n",
      "[CV]  n_estimators=27, min_samples_split=5, min_samples_leaf=1, max_features=sqrt, max_depth=16, bootstrap=True, total=   5.0s\n",
      "[CV] n_estimators=27, min_samples_split=5, min_samples_leaf=2, max_features=auto, max_depth=10, bootstrap=False \n",
      "[CV]  n_estimators=27, min_samples_split=5, min_samples_leaf=1, max_features=sqrt, max_depth=16, bootstrap=True, total=   5.4s\n",
      "[CV] n_estimators=45, min_samples_split=5, min_samples_leaf=1, max_features=auto, max_depth=16, bootstrap=False \n",
      "[CV]  n_estimators=27, min_samples_split=5, min_samples_leaf=2, max_features=auto, max_depth=10, bootstrap=False, total=   5.4s\n",
      "[CV] n_estimators=45, min_samples_split=5, min_samples_leaf=1, max_features=auto, max_depth=16, bootstrap=False \n",
      "[CV]  n_estimators=27, min_samples_split=5, min_samples_leaf=2, max_features=auto, max_depth=10, bootstrap=False, total=   5.3s\n",
      "[CV] n_estimators=45, min_samples_split=5, min_samples_leaf=1, max_features=auto, max_depth=16, bootstrap=False \n",
      "[CV]  n_estimators=27, min_samples_split=5, min_samples_leaf=2, max_features=auto, max_depth=10, bootstrap=False, total=   4.8s\n",
      "[CV] n_estimators=27, min_samples_split=5, min_samples_leaf=2, max_features=auto, max_depth=11, bootstrap=False \n",
      "[CV]  n_estimators=27, min_samples_split=5, min_samples_leaf=2, max_features=auto, max_depth=11, bootstrap=False, total=   4.6s\n",
      "[CV] n_estimators=27, min_samples_split=5, min_samples_leaf=2, max_features=auto, max_depth=11, bootstrap=False \n",
      "[CV]  n_estimators=45, min_samples_split=5, min_samples_leaf=1, max_features=auto, max_depth=16, bootstrap=False, total=   8.4s\n",
      "[CV] n_estimators=27, min_samples_split=5, min_samples_leaf=2, max_features=auto, max_depth=11, bootstrap=False \n",
      "[CV]  n_estimators=45, min_samples_split=5, min_samples_leaf=1, max_features=auto, max_depth=16, bootstrap=False, total=   8.5s\n",
      "[CV] n_estimators=50, min_samples_split=5, min_samples_leaf=2, max_features=auto, max_depth=18, bootstrap=False \n",
      "[CV]  n_estimators=45, min_samples_split=5, min_samples_leaf=1, max_features=auto, max_depth=16, bootstrap=False, total=   9.2s\n",
      "[CV] n_estimators=50, min_samples_split=5, min_samples_leaf=2, max_features=auto, max_depth=18, bootstrap=False \n",
      "[CV]  n_estimators=27, min_samples_split=5, min_samples_leaf=2, max_features=auto, max_depth=11, bootstrap=False, total=   4.8s\n",
      "[CV] n_estimators=50, min_samples_split=5, min_samples_leaf=2, max_features=auto, max_depth=18, bootstrap=False \n",
      "[CV]  n_estimators=27, min_samples_split=5, min_samples_leaf=2, max_features=auto, max_depth=11, bootstrap=False, total=   4.5s\n",
      "[CV] n_estimators=23, min_samples_split=5, min_samples_leaf=2, max_features=auto, max_depth=15, bootstrap=True \n",
      "[CV]  n_estimators=23, min_samples_split=5, min_samples_leaf=2, max_features=auto, max_depth=15, bootstrap=True, total=   2.9s\n",
      "[CV] n_estimators=23, min_samples_split=5, min_samples_leaf=2, max_features=auto, max_depth=15, bootstrap=True \n",
      "[CV]  n_estimators=50, min_samples_split=5, min_samples_leaf=2, max_features=auto, max_depth=18, bootstrap=False, total=   7.9s\n",
      "[CV] n_estimators=23, min_samples_split=5, min_samples_leaf=2, max_features=auto, max_depth=15, bootstrap=True \n",
      "[CV]  n_estimators=50, min_samples_split=5, min_samples_leaf=2, max_features=auto, max_depth=18, bootstrap=False, total=   7.8s\n",
      "[CV] n_estimators=50, min_samples_split=5, min_samples_leaf=2, max_features=auto, max_depth=14, bootstrap=False \n",
      "[CV]  n_estimators=23, min_samples_split=5, min_samples_leaf=2, max_features=auto, max_depth=15, bootstrap=True, total=   3.6s\n",
      "[CV] n_estimators=50, min_samples_split=5, min_samples_leaf=2, max_features=auto, max_depth=14, bootstrap=False \n",
      "[CV]  n_estimators=50, min_samples_split=5, min_samples_leaf=2, max_features=auto, max_depth=18, bootstrap=False, total=   8.5s\n",
      "[CV] n_estimators=50, min_samples_split=5, min_samples_leaf=2, max_features=auto, max_depth=14, bootstrap=False \n",
      "[CV]  n_estimators=23, min_samples_split=5, min_samples_leaf=2, max_features=auto, max_depth=15, bootstrap=True, total=   4.4s\n",
      "[CV] n_estimators=23, min_samples_split=2, min_samples_leaf=2, max_features=sqrt, max_depth=20, bootstrap=False \n",
      "[CV]  n_estimators=23, min_samples_split=2, min_samples_leaf=2, max_features=sqrt, max_depth=20, bootstrap=False, total=   5.4s\n",
      "[CV] n_estimators=23, min_samples_split=2, min_samples_leaf=2, max_features=sqrt, max_depth=20, bootstrap=False \n",
      "[CV]  n_estimators=50, min_samples_split=5, min_samples_leaf=2, max_features=auto, max_depth=14, bootstrap=False, total=  10.8s\n",
      "[CV] n_estimators=23, min_samples_split=2, min_samples_leaf=2, max_features=sqrt, max_depth=20, bootstrap=False \n",
      "[CV]  n_estimators=50, min_samples_split=5, min_samples_leaf=2, max_features=auto, max_depth=14, bootstrap=False, total=  11.1s\n",
      "[CV] n_estimators=45, min_samples_split=2, min_samples_leaf=1, max_features=sqrt, max_depth=15, bootstrap=False \n",
      "[CV]  n_estimators=50, min_samples_split=5, min_samples_leaf=2, max_features=auto, max_depth=14, bootstrap=False, total=  11.0s\n",
      "[CV] n_estimators=45, min_samples_split=2, min_samples_leaf=1, max_features=sqrt, max_depth=15, bootstrap=False \n",
      "[CV]  n_estimators=23, min_samples_split=2, min_samples_leaf=2, max_features=sqrt, max_depth=20, bootstrap=False, total=   5.6s\n",
      "[CV] n_estimators=45, min_samples_split=2, min_samples_leaf=1, max_features=sqrt, max_depth=15, bootstrap=False \n",
      "[CV]  n_estimators=23, min_samples_split=2, min_samples_leaf=2, max_features=sqrt, max_depth=20, bootstrap=False, total=   6.7s\n",
      "[CV] n_estimators=23, min_samples_split=5, min_samples_leaf=1, max_features=sqrt, max_depth=14, bootstrap=False \n",
      "[CV]  n_estimators=23, min_samples_split=5, min_samples_leaf=1, max_features=sqrt, max_depth=14, bootstrap=False, total=   5.1s\n",
      "[CV] n_estimators=23, min_samples_split=5, min_samples_leaf=1, max_features=sqrt, max_depth=14, bootstrap=False \n",
      "[CV]  n_estimators=45, min_samples_split=2, min_samples_leaf=1, max_features=sqrt, max_depth=15, bootstrap=False, total=  11.1s\n",
      "[CV] n_estimators=23, min_samples_split=5, min_samples_leaf=1, max_features=sqrt, max_depth=14, bootstrap=False \n",
      "[CV]  n_estimators=45, min_samples_split=2, min_samples_leaf=1, max_features=sqrt, max_depth=15, bootstrap=False, total=  11.3s\n",
      "[CV] n_estimators=18, min_samples_split=5, min_samples_leaf=1, max_features=sqrt, max_depth=10, bootstrap=False \n",
      "[CV]  n_estimators=45, min_samples_split=2, min_samples_leaf=1, max_features=sqrt, max_depth=15, bootstrap=False, total=  10.4s\n",
      "[CV] n_estimators=18, min_samples_split=5, min_samples_leaf=1, max_features=sqrt, max_depth=10, bootstrap=False \n",
      "[CV]  n_estimators=18, min_samples_split=5, min_samples_leaf=1, max_features=sqrt, max_depth=10, bootstrap=False, total=   3.2s\n",
      "[CV]  n_estimators=23, min_samples_split=5, min_samples_leaf=1, max_features=sqrt, max_depth=14, bootstrap=False, total=   5.1s\n",
      "[CV] n_estimators=18, min_samples_split=5, min_samples_leaf=1, max_features=sqrt, max_depth=10, bootstrap=False \n",
      "[CV] n_estimators=45, min_samples_split=5, min_samples_leaf=1, max_features=sqrt, max_depth=10, bootstrap=False \n",
      "[CV]  n_estimators=23, min_samples_split=5, min_samples_leaf=1, max_features=sqrt, max_depth=14, bootstrap=False, total=   4.9s\n",
      "[CV] n_estimators=45, min_samples_split=5, min_samples_leaf=1, max_features=sqrt, max_depth=10, bootstrap=False \n",
      "[CV]  n_estimators=18, min_samples_split=5, min_samples_leaf=1, max_features=sqrt, max_depth=10, bootstrap=False, total=   3.1s\n",
      "[CV] n_estimators=45, min_samples_split=5, min_samples_leaf=1, max_features=sqrt, max_depth=10, bootstrap=False \n",
      "[CV]  n_estimators=18, min_samples_split=5, min_samples_leaf=1, max_features=sqrt, max_depth=10, bootstrap=False, total=   3.3s\n",
      "[CV] n_estimators=50, min_samples_split=5, min_samples_leaf=2, max_features=auto, max_depth=17, bootstrap=True \n",
      "[CV]  n_estimators=45, min_samples_split=5, min_samples_leaf=1, max_features=sqrt, max_depth=10, bootstrap=False, total=   6.6s\n"
     ]
    },
    {
     "name": "stdout",
     "output_type": "stream",
     "text": [
      "[CV] n_estimators=50, min_samples_split=5, min_samples_leaf=2, max_features=auto, max_depth=17, bootstrap=True \n",
      "[CV]  n_estimators=45, min_samples_split=5, min_samples_leaf=1, max_features=sqrt, max_depth=10, bootstrap=False, total=   6.4s\n",
      "[CV] n_estimators=50, min_samples_split=5, min_samples_leaf=2, max_features=auto, max_depth=17, bootstrap=True \n",
      "[CV]  n_estimators=45, min_samples_split=5, min_samples_leaf=1, max_features=sqrt, max_depth=10, bootstrap=False, total=   6.1s\n",
      "[CV] n_estimators=27, min_samples_split=5, min_samples_leaf=1, max_features=sqrt, max_depth=14, bootstrap=True \n",
      "[CV]  n_estimators=50, min_samples_split=5, min_samples_leaf=2, max_features=auto, max_depth=17, bootstrap=True, total=   6.1s\n",
      "[CV] n_estimators=27, min_samples_split=5, min_samples_leaf=1, max_features=sqrt, max_depth=14, bootstrap=True \n",
      "[CV]  n_estimators=27, min_samples_split=5, min_samples_leaf=1, max_features=sqrt, max_depth=14, bootstrap=True, total=   3.4s\n",
      "[CV] n_estimators=27, min_samples_split=5, min_samples_leaf=1, max_features=sqrt, max_depth=14, bootstrap=True \n",
      "[CV]  n_estimators=50, min_samples_split=5, min_samples_leaf=2, max_features=auto, max_depth=17, bootstrap=True, total=   6.5s\n",
      "[CV]  n_estimators=27, min_samples_split=5, min_samples_leaf=1, max_features=sqrt, max_depth=14, bootstrap=True, total=   3.5s\n",
      "[CV]  n_estimators=50, min_samples_split=5, min_samples_leaf=2, max_features=auto, max_depth=17, bootstrap=True, total=   6.4s\n",
      "[CV]  n_estimators=27, min_samples_split=5, min_samples_leaf=1, max_features=sqrt, max_depth=14, bootstrap=True, total=   3.0s\n"
     ]
    },
    {
     "name": "stderr",
     "output_type": "stream",
     "text": [
      "[Parallel(n_jobs=-1)]: Done 300 out of 300 | elapsed:  6.9min finished\n"
     ]
    },
    {
     "data": {
      "text/plain": [
       "RandomizedSearchCV(cv=3, error_score='raise',\n",
       "          estimator=RandomForestClassifier(bootstrap=True, class_weight=None, criterion='gini',\n",
       "            max_depth=None, max_features='auto', max_leaf_nodes=None,\n",
       "            min_impurity_decrease=0.0, min_impurity_split=None,\n",
       "            min_samples_leaf=1, min_samples_split=2,\n",
       "            min_weight_fraction_leaf=0.0, n_estimators=10, n_jobs=1,\n",
       "            oob_score=False, random_state=None, verbose=0,\n",
       "            warm_start=False),\n",
       "          fit_params=None, iid=True, n_iter=100, n_jobs=-1,\n",
       "          param_distributions={'n_estimators': [10, 14, 18, 23, 27, 32, 36, 41, 45, 50], 'max_features': ['auto', 'sqrt'], 'max_depth': [10, 11, 12, 13, 14, 15, 16, 17, 18, 20, None], 'min_samples_split': [2, 5], 'min_samples_leaf': [1, 2], 'bootstrap': [True, False]},\n",
       "          pre_dispatch='2*n_jobs', random_state=42, refit=True,\n",
       "          return_train_score='warn', scoring='f1', verbose=2)"
      ]
     },
     "execution_count": 576,
     "metadata": {},
     "output_type": "execute_result"
    }
   ],
   "source": [
    "# Use the random search to search for best hyperparameters\n",
    "# First create the base model to tune\n",
    "rf = RandomForestClassifier()\n",
    "# Random search of parameters, using 3 fold cross validation, \n",
    "# search across 100 different combinations, and use all available cores\n",
    "rf_random = RandomizedSearchCV(estimator = rf,scoring='f1', param_distributions = random_grid, n_iter = 100, cv = 3, verbose=2, random_state=42, n_jobs = -1)\n",
    "# Fit the random search model\n",
    "rf_random.fit(train_x_scaled, train_y)"
   ]
  },
  {
   "cell_type": "code",
   "execution_count": 577,
   "metadata": {},
   "outputs": [
    {
     "name": "stdout",
     "output_type": "stream",
     "text": [
      "{'n_estimators': 32, 'min_samples_split': 2, 'min_samples_leaf': 2, 'max_features': 'sqrt', 'max_depth': 10, 'bootstrap': True}\n"
     ]
    }
   ],
   "source": [
    "# The best parmeters of the randomforest classifier\n",
    "print(rf_random.best_params_)"
   ]
  },
  {
   "cell_type": "code",
   "execution_count": 578,
   "metadata": {
    "collapsed": true
   },
   "outputs": [],
   "source": [
    "from sklearn.metrics import f1_score\n",
    "\n",
    "def evaluate(model, test_features, y_true):\n",
    "    y_pred = model.predict(test_features)\n",
    "    \n",
    "    #Here, we will use F1 as evaluation metric of the model\n",
    "    \n",
    "    f_score = float(f1_score(y_true, y_pred, average='weighted'))\n",
    "    \n",
    "    errors = abs(y_pred - y_true)\n",
    "   \n",
    "    \n",
    "    accuracy = np.mean(y_pred == y_true)*100\n",
    "    \n",
    "    \n",
    "    \n",
    "    print('Model Performance')\n",
    "    print('Average F1 score: {} .'.format(f_score))\n",
    "    print('Average Error: {:0.4f} .'.format(np.mean(errors)))\n",
    "    print('Accuracy = {:0.2f}%.'.format(accuracy))\n",
    "    \n",
    "    return f_score\n",
    "\n"
   ]
  },
  {
   "cell_type": "code",
   "execution_count": 579,
   "metadata": {},
   "outputs": [
    {
     "name": "stdout",
     "output_type": "stream",
     "text": [
      "Model Performance\n",
      "Average F1 score: 0.8926907314837218 .\n",
      "Average Error: 0.1031 .\n",
      "Accuracy = 89.69%.\n",
      "Model Performance\n",
      "Average F1 score: 0.8978998856678834 .\n",
      "Average Error: 0.0977 .\n",
      "Accuracy = 90.23%.\n",
      "Improvement of F1 Score is  0.0058.\n"
     ]
    }
   ],
   "source": [
    "\n",
    "\n",
    "base_model = RandomForestClassifier(random_state = 42)\n",
    "base_model.fit(train_x_scaled, train_y)\n",
    "base_f1 = evaluate(base_model, test_x_scaled, test_y)\n",
    "\n",
    "\n",
    "best_random = rf_random.best_estimator_\n",
    "random_f1 = evaluate(best_random, test_x_scaled, test_y)\n",
    "\n",
    "print('Improvement of F1 Score is  {:0.4f}.'.format( (random_f1 - base_f1) / base_f1))\n"
   ]
  },
  {
   "cell_type": "markdown",
   "metadata": {},
   "source": [
    "#### F1, precision, recall of fine-tuned randomForest"
   ]
  },
  {
   "cell_type": "code",
   "execution_count": 580,
   "metadata": {},
   "outputs": [
    {
     "name": "stdout",
     "output_type": "stream",
     "text": [
      "             precision    recall  f1-score   support\n",
      "\n",
      "        0.0       0.89      0.98      0.93     70844\n",
      "        1.0       0.95      0.71      0.82     30724\n",
      "\n",
      "avg / total       0.91      0.90      0.90    101568\n",
      "\n"
     ]
    }
   ],
   "source": [
    "#Let us find the precision, recall anbd F1 score of the best random forest model\n",
    "pred_y_best_rf = best_random.predict(test_x_scaled)\n",
    "print(classification_report(test_y, pred_y_best_rf))"
   ]
  },
  {
   "cell_type": "markdown",
   "metadata": {},
   "source": [
    "#### Confusion Matrix of the fine-tuned random forest"
   ]
  },
  {
   "cell_type": "code",
   "execution_count": 581,
   "metadata": {},
   "outputs": [
    {
     "name": "stdout",
     "output_type": "stream",
     "text": [
      "[[69709  1135]\n",
      " [ 8784 21940]]\n"
     ]
    }
   ],
   "source": [
    "\n",
    "import matplotlib.pyplot as plt\n",
    "from sklearn import metrics\n",
    "cm = metrics.confusion_matrix(test_y, pred_y_best_rf)\n",
    "print(cm)"
   ]
  },
  {
   "cell_type": "markdown",
   "metadata": {},
   "source": [
    "## Result from random search\n",
    "\n",
    " + We got best parameters and we used on the test data, we got an incresed F1-Score of 0.9 from 0.892."
   ]
  },
  {
   "cell_type": "markdown",
   "metadata": {},
   "source": [
    "# RoC and AuC of all model"
   ]
  },
  {
   "cell_type": "code",
   "execution_count": 583,
   "metadata": {},
   "outputs": [
    {
     "data": {
      "image/png": "[encoded data removed]",
      "text/plain": [
       "<Figure size 432x288 with 1 Axes>"
      ]
     },
     "metadata": {},
     "output_type": "display_data"
    }
   ],
   "source": [
    "#Let us plot ROC and AUC of the models \n",
    "\n",
    "from sklearn.metrics import roc_auc_score\n",
    "from sklearn.metrics import roc_curve\n",
    "\n",
    "#FPR and TPR from logistic regression\n",
    "logit_roc_auc = roc_auc_score(test_y, logisticRegr.predict(test_x_scaled))\n",
    "fpr_logit, tpr_logit, thresholds_logit = roc_curve(test_y, logisticRegr.predict_proba(test_x_scaled)[:,1])\n",
    "\n",
    "#FPR and TPR from base randomForestClassifier\n",
    "base_random_roc_auc = roc_auc_score(test_y, base_random_forest.predict(test_x_scaled))\n",
    "fpr_base_rf, tpr_base_rf, thresholds_base_rf = roc_curve(test_y, base_random_forest.predict_proba(test_x_scaled)[:,1])\n",
    "\n",
    "best_random_roc_auc = roc_auc_score(test_y, best_random.predict(test_x_scaled))\n",
    "fpr_best_rf, tpr_best_rf, thresholds_best_rf = roc_curve(test_y, best_random.predict_proba(test_x_scaled)[:,1])\n",
    "\n",
    "plt.figure()\n",
    "\n",
    "plt.plot(fpr_logit, tpr_logit, label='Logistic Regression (area = %0.2f)' % logit_roc_auc)\n",
    "plt.plot(fpr_base_rf, tpr_base_rf, label='Base RandomForest (area = %0.2f)' % base_random_roc_auc)\n",
    "plt.plot(fpr_best_rf, tpr_best_rf, label='Best RandomForest (area = %0.2f)' % best_random_roc_auc)\n",
    "\n",
    "plt.plot([0, 1], [0, 1],'r--')\n",
    "plt.xlim([0.0, 1.0])\n",
    "plt.ylim([0.0, 1.05])\n",
    "plt.xlabel('False Positive Rate')\n",
    "plt.ylabel('True Positive Rate')\n",
    "plt.title('Receiver operating characteristic')\n",
    "plt.legend(loc=\"lower right\")\n",
    "plt.savefig('Log_ROC')\n",
    "plt.show()"
   ]
  },
  {
   "cell_type": "markdown",
   "metadata": {},
   "source": [
    "#### From the above plot the fine tuned randomforest gives us better area under curve of 0.85. Compared to baseline model we have built powerful fine tuned random forest."
   ]
  },
  {
   "cell_type": "markdown",
   "metadata": {},
   "source": [
    "### Important Features/categories \n",
    "\n",
    "The important categories are plotted below from RandomForest.\n",
    " \n",
    " + EmailOpen\n",
    " + FormSubmit\n",
    " + EmailClickThrough\n",
    "\n",
    "The above three categories are important in prediciting users who will purchase."
   ]
  },
  {
   "cell_type": "code",
   "execution_count": 584,
   "metadata": {
    "collapsed": true
   },
   "outputs": [],
   "source": [
    "def plot_feature_importances(df):\n",
    "    \n",
    "    # Sort features according to importance\n",
    "    df = df.sort_values('importance', ascending = False).reset_index()\n",
    "    \n",
    "    # Normalize the feature importances to add up to one\n",
    "    df['importance_normalized'] = df['importance'] / df['importance'].sum()\n",
    "\n",
    "    # Make a horizontal bar chart of feature importances\n",
    "    plt.figure(figsize = (10, 6))\n",
    "    ax = plt.subplot()\n",
    "    \n",
    "    # Need to reverse the index to plot most important on top\n",
    "    ax.barh(list(reversed(list(df.index[:15]))), \n",
    "            df['importance_normalized'].head(15), \n",
    "            align = 'center', edgecolor = 'k')\n",
    "    \n",
    "    # Set the yticks and labels\n",
    "    ax.set_yticks(list(reversed(list(df.index[:15]))))\n",
    "    ax.set_yticklabels(df['feature'].head(15))\n",
    "    \n",
    "    # Plot labeling\n",
    "    plt.xlabel('Normalized (0 - 1)'); plt.title('Feature Importances')\n",
    "    plt.show()\n",
    "    \n",
    "    return df"
   ]
  },
  {
   "cell_type": "code",
   "execution_count": 585,
   "metadata": {},
   "outputs": [
    {
     "data": {
      "image/png": "[encoded data removed]",
      "text/plain": [
       "<Figure size 720x432 with 1 Axes>"
      ]
     },
     "metadata": {},
     "output_type": "display_data"
    }
   ],
   "source": [
    "# Extract feature importances\n",
    "feature_importance_values = best_random.feature_importances_\n",
    "feature_importances = pd.DataFrame({'feature': features, 'importance': feature_importance_values})\n",
    "\n",
    "feature_importances_sorted = plot_feature_importances(feature_importances)"
   ]
  },
  {
   "cell_type": "markdown",
   "metadata": {},
   "source": [
    "So from randomforest model we can see that the following features/categories are important in deciding the user will purchase or not,\n",
    " + EmailOpen\n",
    " + FormSubmit\n",
    " + WebVisit\n",
    " \n",
    "\n",
    "We have built a model to predict the users who will make a purchase, we evaluated the model based on following metrics,\n",
    " + Precision\n",
    " + Recall\n",
    " + F1-Score\n",
    " + ROC and AUC\n",
    " + Confusion Matrix\n",
    "\n",
    "We will test the model on the unseen data and record probability of purchase for each user.\n",
    "\n",
    "We wil load the test data and generate features, drop hihgly correlated feature as we did for the training data and check the features of test data with the train data we used to build the model."
   ]
  },
  {
   "cell_type": "code",
   "execution_count": 622,
   "metadata": {
    "collapsed": true
   },
   "outputs": [],
   "source": [
    "test_data = pd.read_csv('test.tsv',sep='\\t',header=None)"
   ]
  },
  {
   "cell_type": "code",
   "execution_count": 623,
   "metadata": {
    "collapsed": true
   },
   "outputs": [],
   "source": [
    "test_data =  test_data.rename(index=str, columns={0: \"user_id\", 1: \"date\",2:\"activity\"})\n",
    "test_data['date'] = pd.to_datetime(pd.Series(test_data['date']), format=\"%Y/%m/%d\")\n"
   ]
  },
  {
   "cell_type": "code",
   "execution_count": 624,
   "metadata": {
    "collapsed": true
   },
   "outputs": [],
   "source": [
    "test_data = pd.get_dummies(test_data, columns=['activity']).groupby(['user_id'], as_index=False).sum()"
   ]
  },
  {
   "cell_type": "code",
   "execution_count": 625,
   "metadata": {
    "collapsed": true
   },
   "outputs": [],
   "source": [
    "test_data_user = test_data['user_id'].values"
   ]
  },
  {
   "cell_type": "code",
   "execution_count": 626,
   "metadata": {
    "collapsed": true
   },
   "outputs": [],
   "source": [
    "test_data = test_data.drop(['user_id'],axis=1)"
   ]
  },
  {
   "cell_type": "code",
   "execution_count": 627,
   "metadata": {
    "collapsed": true
   },
   "outputs": [],
   "source": [
    "#Debugging the features we got from the test data to the training data\n",
    "\n",
    "test_data_features = list(test_data.columns)\n",
    "assert test_data_features == training_data_features, \"Features are not same\""
   ]
  },
  {
   "cell_type": "code",
   "execution_count": 628,
   "metadata": {},
   "outputs": [
    {
     "data": {
      "text/html": [
       "<div>\n",
       "<style scoped>\n",
       "    .dataframe tbody tr th:only-of-type {\n",
       "        vertical-align: middle;\n",
       "    }\n",
       "\n",
       "    .dataframe tbody tr th {\n",
       "        vertical-align: top;\n",
       "    }\n",
       "\n",
       "    .dataframe thead th {\n",
       "        text-align: right;\n",
       "    }\n",
       "</style>\n",
       "<table border=\"1\" class=\"dataframe\">\n",
       "  <thead>\n",
       "    <tr style=\"text-align: right;\">\n",
       "      <th></th>\n",
       "      <th>activity_EmailClickthrough</th>\n",
       "      <th>activity_EmailOpen</th>\n",
       "      <th>activity_FormSubmit</th>\n",
       "      <th>activity_PageView</th>\n",
       "      <th>activity_WebVisit</th>\n",
       "    </tr>\n",
       "  </thead>\n",
       "  <tbody>\n",
       "    <tr>\n",
       "      <th>0</th>\n",
       "      <td>0</td>\n",
       "      <td>5</td>\n",
       "      <td>0</td>\n",
       "      <td>0</td>\n",
       "      <td>0</td>\n",
       "    </tr>\n",
       "    <tr>\n",
       "      <th>1</th>\n",
       "      <td>1</td>\n",
       "      <td>1</td>\n",
       "      <td>0</td>\n",
       "      <td>0</td>\n",
       "      <td>0</td>\n",
       "    </tr>\n",
       "    <tr>\n",
       "      <th>2</th>\n",
       "      <td>0</td>\n",
       "      <td>3</td>\n",
       "      <td>0</td>\n",
       "      <td>0</td>\n",
       "      <td>0</td>\n",
       "    </tr>\n",
       "    <tr>\n",
       "      <th>3</th>\n",
       "      <td>0</td>\n",
       "      <td>4</td>\n",
       "      <td>0</td>\n",
       "      <td>0</td>\n",
       "      <td>0</td>\n",
       "    </tr>\n",
       "    <tr>\n",
       "      <th>4</th>\n",
       "      <td>0</td>\n",
       "      <td>3</td>\n",
       "      <td>0</td>\n",
       "      <td>0</td>\n",
       "      <td>0</td>\n",
       "    </tr>\n",
       "  </tbody>\n",
       "</table>\n",
       "</div>"
      ],
      "text/plain": [
       "   activity_EmailClickthrough  activity_EmailOpen  activity_FormSubmit  \\\n",
       "0                           0                   5                    0   \n",
       "1                           1                   1                    0   \n",
       "2                           0                   3                    0   \n",
       "3                           0                   4                    0   \n",
       "4                           0                   3                    0   \n",
       "\n",
       "   activity_PageView  activity_WebVisit  \n",
       "0                  0                  0  \n",
       "1                  0                  0  \n",
       "2                  0                  0  \n",
       "3                  0                  0  \n",
       "4                  0                  0  "
      ]
     },
     "execution_count": 628,
     "metadata": {},
     "output_type": "execute_result"
    }
   ],
   "source": [
    "test_data.head(5)"
   ]
  },
  {
   "cell_type": "code",
   "execution_count": 629,
   "metadata": {
    "collapsed": true
   },
   "outputs": [],
   "source": [
    "#Apply MinMax of the training data on the test data\n",
    "\n",
    "test_data_scaled = scaler.transform(test_data)\n"
   ]
  },
  {
   "cell_type": "code",
   "execution_count": 638,
   "metadata": {},
   "outputs": [
    {
     "name": "stdout",
     "output_type": "stream",
     "text": [
      "[0.09359257 0.10080072 0.08460935 ... 0.06492925 0.06492925 0.09359257]\n",
      "[0. 0. 0. ... 0. 0. 0.]\n",
      "['0000ecf58c94668' '000132f21724ee2' '0001b315b991cf0' ...\n",
      " 'fffed482b52afd8' 'ffffa4cc0190881' 'ffffecdd8dc6174']\n"
     ]
    }
   ],
   "source": [
    "#Get prediction probability of the test data, from best_randomforest classifier\n",
    "\n",
    "test_predicted_probability = best_random.predict_proba(test_data_scaled)[:,1]\n",
    "test_predicted_class =best_random.predict(test_data_scaled)\n",
    "print(test_predicted_probability)\n",
    "print(test_predicted_class)\n",
    "print(test_data_user)"
   ]
  },
  {
   "cell_type": "code",
   "execution_count": 646,
   "metadata": {
    "collapsed": true
   },
   "outputs": [],
   "source": [
    "test_output_list = list(zip(test_data_user,test_predicted_probability))"
   ]
  },
  {
   "cell_type": "code",
   "execution_count": 647,
   "metadata": {
    "collapsed": true
   },
   "outputs": [],
   "source": [
    "test_op = pd.DataFrame(test_output_list,columns=['user_id','purchase_prob'])"
   ]
  },
  {
   "cell_type": "code",
   "execution_count": 661,
   "metadata": {},
   "outputs": [
    {
     "data": {
      "text/html": [
       "<div>\n",
       "<style scoped>\n",
       "    .dataframe tbody tr th:only-of-type {\n",
       "        vertical-align: middle;\n",
       "    }\n",
       "\n",
       "    .dataframe tbody tr th {\n",
       "        vertical-align: top;\n",
       "    }\n",
       "\n",
       "    .dataframe thead th {\n",
       "        text-align: right;\n",
       "    }\n",
       "</style>\n",
       "<table border=\"1\" class=\"dataframe\">\n",
       "  <thead>\n",
       "    <tr style=\"text-align: right;\">\n",
       "      <th></th>\n",
       "      <th>user_id</th>\n",
       "      <th>purchase_prob</th>\n",
       "    </tr>\n",
       "  </thead>\n",
       "  <tbody>\n",
       "    <tr>\n",
       "      <th>0</th>\n",
       "      <td>0000ecf58c94668</td>\n",
       "      <td>0.093593</td>\n",
       "    </tr>\n",
       "    <tr>\n",
       "      <th>1</th>\n",
       "      <td>000132f21724ee2</td>\n",
       "      <td>0.100801</td>\n",
       "    </tr>\n",
       "    <tr>\n",
       "      <th>2</th>\n",
       "      <td>0001b315b991cf0</td>\n",
       "      <td>0.084609</td>\n",
       "    </tr>\n",
       "    <tr>\n",
       "      <th>3</th>\n",
       "      <td>000269150971d08</td>\n",
       "      <td>0.087454</td>\n",
       "    </tr>\n",
       "    <tr>\n",
       "      <th>4</th>\n",
       "      <td>000297ba4fa5026</td>\n",
       "      <td>0.084609</td>\n",
       "    </tr>\n",
       "  </tbody>\n",
       "</table>\n",
       "</div>"
      ],
      "text/plain": [
       "           user_id  purchase_prob\n",
       "0  0000ecf58c94668       0.093593\n",
       "1  000132f21724ee2       0.100801\n",
       "2  0001b315b991cf0       0.084609\n",
       "3  000269150971d08       0.087454\n",
       "4  000297ba4fa5026       0.084609"
      ]
     },
     "execution_count": 661,
     "metadata": {},
     "output_type": "execute_result"
    }
   ],
   "source": [
    "test_op.head(5)"
   ]
  },
  {
   "cell_type": "code",
   "execution_count": 652,
   "metadata": {
    "collapsed": true
   },
   "outputs": [],
   "source": [
    "test_op_sorted = test_op.sort_values('purchase_prob',ascending = False,ind)"
   ]
  },
  {
   "cell_type": "code",
   "execution_count": 654,
   "metadata": {
    "collapsed": true
   },
   "outputs": [],
   "source": [
    "top_user = test_op_sorted.head(1000)"
   ]
  },
  {
   "cell_type": "markdown",
   "metadata": {},
   "source": [
    "### The top 1000 users who most likely to convert are written on top_1000_user.csv files along with the probability."
   ]
  },
  {
   "cell_type": "code",
   "execution_count": 660,
   "metadata": {
    "collapsed": true
   },
   "outputs": [],
   "source": [
    "top_user.to_csv('top_1000_user.csv', sep='\\t', encoding='utf-8',index=False)"
   ]
  }
 ],
 "metadata": {
  "kernelspec": {
   "display_name": "Python 3",
   "language": "python",
   "name": "python3"
  },
  "language_info": {
   "codemirror_mode": {
    "name": "ipython",
    "version": 3
   },
   "file_extension": ".py",
   "mimetype": "text/x-python",
   "name": "python",
   "nbconvert_exporter": "python",
   "pygments_lexer": "ipython3",
   "version": "3.6.6"
  }
 },
 "nbformat": 4,
 "nbformat_minor": 2
}
